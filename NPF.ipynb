{
  "nbformat": 4,
  "nbformat_minor": 0,
  "metadata": {
    "colab": {
      "provenance": [],
      "gpuType": "T4",
      "authorship_tag": "ABX9TyOXxOqsrZpTrB77gdRqo/Tb",
      "include_colab_link": true
    },
    "kernelspec": {
      "name": "python3",
      "display_name": "Python 3"
    },
    "language_info": {
      "name": "python"
    },
    "accelerator": "GPU"
  },
  "cells": [
    {
      "cell_type": "markdown",
      "metadata": {
        "id": "view-in-github",
        "colab_type": "text"
      },
      "source": [
        "<a href=\"https://colab.research.google.com/github/EgorShestakov/SpringCourse/blob/master/NPF.ipynb\" target=\"_parent\"><img src=\"https://colab.research.google.com/assets/colab-badge.svg\" alt=\"Open In Colab\"/></a>"
      ]
    },
    {
      "cell_type": "code",
      "execution_count": 24,
      "metadata": {
        "id": "asL-cUkXEpKD"
      },
      "outputs": [],
      "source": [
        "import zipfile\n",
        "import os\n",
        "import time\n",
        "\n",
        "from tensorflow.keras.models import Sequential, load_model\n",
        "\"\"\" полносвязный слой нейронной сети \"\"\"\n",
        "from tensorflow.keras.layers import Dense\n",
        "\"\"\" функции для получения обратной связи во время обучения нейронной сети\"\"\"\n",
        "# from tensorflow.keras.callbacks import EarlyStopping, ModelCheckpoint\n",
        "# \"\"\" вспомогательный модуль Keras для предварительной обработки данных \"\"\"\n",
        "from tensorflow.keras import utils\n",
        "\"\"\" библиотекf для работы с матрицами (многомерными тензорами) и линейной алгеброй \"\"\"\n",
        "from sklearn.model_selection import train_test_split\n",
        "import numpy as np\n",
        "import pandas as pd\n",
        "import matplotlib.pyplot as plt\n",
        "from keras.models import Sequential\n",
        "from keras.layers import Dense\n",
        "from keras import utils\n",
        "from google.colab import drive\n",
        "from imblearn.under_sampling import NearMiss\n"
      ]
    },
    {
      "cell_type": "code",
      "source": [
        "drive.mount('/content/drive')"
      ],
      "metadata": {
        "colab": {
          "base_uri": "https://localhost:8080/"
        },
        "id": "FCeVcoWjaG1d",
        "outputId": "ca67cfde-76f3-411d-a33d-f7f117afb982"
      },
      "execution_count": 25,
      "outputs": [
        {
          "output_type": "stream",
          "name": "stdout",
          "text": [
            "Drive already mounted at /content/drive; to attempt to forcibly remount, call drive.mount(\"/content/drive\", force_remount=True).\n"
          ]
        }
      ]
    },
    {
      "cell_type": "code",
      "source": [
        "data_path = '/content/drive/MyDrive/NPF'\n",
        "p_tr = '/' + 'train_dataset_train/train' + '/'+ 'train.csv'\n",
        "p_ts = '/' + 'test' + '/'+ 'test.csv'\n",
        "train=pd.read_csv(data_path + p_tr)\n",
        "test=pd.read_csv(data_path + p_ts)\n",
        "test[:10]"
      ],
      "metadata": {
        "colab": {
          "base_uri": "https://localhost:8080/",
          "height": 499
        },
        "id": "5abb5NN6h064",
        "outputId": "ddb6bba8-9dcf-4a98-ab1f-57f941960340"
      },
      "execution_count": 26,
      "outputs": [
        {
          "output_type": "execute_result",
          "data": {
            "text/plain": [
              "   slctn_nmbr                           client_id  \\\n",
              "0           0  0x589BC912CB844D468212ADD42EAE4151   \n",
              "1           2  0xCCF22420C90AE4459A25781A9A30F445   \n",
              "2           3  0x943D2C768A4FB38311E6605EEA2B9E4A   \n",
              "3           2  0x99E64FD29CC3B04189C5C9EBEAF6F9A4   \n",
              "4           0  0x654EEEBA731C4A4881816631229C5B65   \n",
              "5           2  0xF122487FAF4C5747BE4D3B63FE775D82   \n",
              "6           0  0xA629005056964A2C11ED58F4BF8D9DA0   \n",
              "7           0  0xDC5AABE97573364C90FCF3A0332FE891   \n",
              "8           0  0x43C9B1CBF066E64FBB46BFCEEF48C429   \n",
              "9           2  0x5C73A9B5A4C2D94A94D33E16E1ABBCF1   \n",
              "\n",
              "                       npo_account_id  npo_accnts_nmbr  pmnts_type  year  \\\n",
              "0  0xAA9E8DDF1310724995598EA2B42D7D87                2           1  2017   \n",
              "1  0x3B9B09857D152F468A42C5DEE6D723F7                1           3  2021   \n",
              "2  0xA7F12C768A4FB38311E835E4A7632E00                1           2  2015   \n",
              "3  0xBFE4BDFBE0E037478C29BA4F38121B15                1           1  2015   \n",
              "4  0x4B5C7804E403C842B4ECBF69BC3EDD7C                2           1  2011   \n",
              "5  0x2BE14D69E1D797449A658B24274725E4                1           2  2015   \n",
              "6  0xA62A005056964A2C11ED84FCEB1528B0                2           3  2022   \n",
              "7  0xFF24368E83A0B144968BB01B57A1418D                2           1  2022   \n",
              "8  0xDF013406EFAB584298DCB380629899D0                1           1  2017   \n",
              "9  0x0B0ECAD8062F0142A108C2C902FA7BFF                1           1  2015   \n",
              "\n",
              "  quarter  gender  age  clnt_cprtn_time_d  ...  email  lk  assignee_npo  \\\n",
              "0  2017Q2       1   54               6595  ...      0   1            -1   \n",
              "1  2021Q4       1   75               7078  ...     -1  -1            -1   \n",
              "2  2015Q3       1   35               1675  ...      0  -1            -1   \n",
              "3  2015Q3       1   50               5180  ...     -1  -1            -1   \n",
              "4  2011Q3      -1   46                296  ...      0  -1            -1   \n",
              "5  2015Q4       1   28               3398  ...     -1  -1            -1   \n",
              "6  2022Q2       1   45                198  ...      0  -1            -1   \n",
              "7  2022Q1      -1   58               2823  ...      0   1            -1   \n",
              "8  2017Q1       1   51               2367  ...      0   1            -1   \n",
              "9  2015Q1      -1   45               4991  ...     -1  -1            -1   \n",
              "\n",
              "   assignee_ops  postal_code             region citizen  fact_addrss  \\\n",
              "0            -1     398046.0       ЛИПЕЦКАЯ ОБЛ       1            1   \n",
              "1            -1          0.0           МОСКВА Г       1            1   \n",
              "2            -1     666211.0      ИРКУТСКАЯ ОБЛ      -1            1   \n",
              "3            -1     162610.0    ВОЛОГОДСКАЯ ОБЛ       1            1   \n",
              "4            -1     427111.0    УДМУРТСКАЯ РЕСП       1            1   \n",
              "5            -1     606512.0  НИЖЕГОРОДСКАЯ ОБЛ      -1            1   \n",
              "6            -1     693022.0    САХАЛИНСКАЯ ОБЛ       1           -1   \n",
              "7            -1     390035.0      РЯЗАНСКАЯ ОБЛ       1            1   \n",
              "8            -1     446206.0      САМАРСКАЯ ОБЛ       1            1   \n",
              "9            -1     162626.0    ВОЛОГОДСКАЯ ОБЛ       1            1   \n",
              "\n",
              "   appl_mrkr  evry_qrtr_pmnt  \n",
              "0          0               1  \n",
              "1          0               0  \n",
              "2          0               0  \n",
              "3          0               1  \n",
              "4          0               1  \n",
              "5          0               0  \n",
              "6          0               1  \n",
              "7          0               1  \n",
              "8          0               1  \n",
              "9          0               0  \n",
              "\n",
              "[10 rows x 41 columns]"
            ],
            "text/html": [
              "\n",
              "  <div id=\"df-1acdae43-5ec3-477b-b7ef-75ae8533382d\" class=\"colab-df-container\">\n",
              "    <div>\n",
              "<style scoped>\n",
              "    .dataframe tbody tr th:only-of-type {\n",
              "        vertical-align: middle;\n",
              "    }\n",
              "\n",
              "    .dataframe tbody tr th {\n",
              "        vertical-align: top;\n",
              "    }\n",
              "\n",
              "    .dataframe thead th {\n",
              "        text-align: right;\n",
              "    }\n",
              "</style>\n",
              "<table border=\"1\" class=\"dataframe\">\n",
              "  <thead>\n",
              "    <tr style=\"text-align: right;\">\n",
              "      <th></th>\n",
              "      <th>slctn_nmbr</th>\n",
              "      <th>client_id</th>\n",
              "      <th>npo_account_id</th>\n",
              "      <th>npo_accnts_nmbr</th>\n",
              "      <th>pmnts_type</th>\n",
              "      <th>year</th>\n",
              "      <th>quarter</th>\n",
              "      <th>gender</th>\n",
              "      <th>age</th>\n",
              "      <th>clnt_cprtn_time_d</th>\n",
              "      <th>...</th>\n",
              "      <th>email</th>\n",
              "      <th>lk</th>\n",
              "      <th>assignee_npo</th>\n",
              "      <th>assignee_ops</th>\n",
              "      <th>postal_code</th>\n",
              "      <th>region</th>\n",
              "      <th>citizen</th>\n",
              "      <th>fact_addrss</th>\n",
              "      <th>appl_mrkr</th>\n",
              "      <th>evry_qrtr_pmnt</th>\n",
              "    </tr>\n",
              "  </thead>\n",
              "  <tbody>\n",
              "    <tr>\n",
              "      <th>0</th>\n",
              "      <td>0</td>\n",
              "      <td>0x589BC912CB844D468212ADD42EAE4151</td>\n",
              "      <td>0xAA9E8DDF1310724995598EA2B42D7D87</td>\n",
              "      <td>2</td>\n",
              "      <td>1</td>\n",
              "      <td>2017</td>\n",
              "      <td>2017Q2</td>\n",
              "      <td>1</td>\n",
              "      <td>54</td>\n",
              "      <td>6595</td>\n",
              "      <td>...</td>\n",
              "      <td>0</td>\n",
              "      <td>1</td>\n",
              "      <td>-1</td>\n",
              "      <td>-1</td>\n",
              "      <td>398046.0</td>\n",
              "      <td>ЛИПЕЦКАЯ ОБЛ</td>\n",
              "      <td>1</td>\n",
              "      <td>1</td>\n",
              "      <td>0</td>\n",
              "      <td>1</td>\n",
              "    </tr>\n",
              "    <tr>\n",
              "      <th>1</th>\n",
              "      <td>2</td>\n",
              "      <td>0xCCF22420C90AE4459A25781A9A30F445</td>\n",
              "      <td>0x3B9B09857D152F468A42C5DEE6D723F7</td>\n",
              "      <td>1</td>\n",
              "      <td>3</td>\n",
              "      <td>2021</td>\n",
              "      <td>2021Q4</td>\n",
              "      <td>1</td>\n",
              "      <td>75</td>\n",
              "      <td>7078</td>\n",
              "      <td>...</td>\n",
              "      <td>-1</td>\n",
              "      <td>-1</td>\n",
              "      <td>-1</td>\n",
              "      <td>-1</td>\n",
              "      <td>0.0</td>\n",
              "      <td>МОСКВА Г</td>\n",
              "      <td>1</td>\n",
              "      <td>1</td>\n",
              "      <td>0</td>\n",
              "      <td>0</td>\n",
              "    </tr>\n",
              "    <tr>\n",
              "      <th>2</th>\n",
              "      <td>3</td>\n",
              "      <td>0x943D2C768A4FB38311E6605EEA2B9E4A</td>\n",
              "      <td>0xA7F12C768A4FB38311E835E4A7632E00</td>\n",
              "      <td>1</td>\n",
              "      <td>2</td>\n",
              "      <td>2015</td>\n",
              "      <td>2015Q3</td>\n",
              "      <td>1</td>\n",
              "      <td>35</td>\n",
              "      <td>1675</td>\n",
              "      <td>...</td>\n",
              "      <td>0</td>\n",
              "      <td>-1</td>\n",
              "      <td>-1</td>\n",
              "      <td>-1</td>\n",
              "      <td>666211.0</td>\n",
              "      <td>ИРКУТСКАЯ ОБЛ</td>\n",
              "      <td>-1</td>\n",
              "      <td>1</td>\n",
              "      <td>0</td>\n",
              "      <td>0</td>\n",
              "    </tr>\n",
              "    <tr>\n",
              "      <th>3</th>\n",
              "      <td>2</td>\n",
              "      <td>0x99E64FD29CC3B04189C5C9EBEAF6F9A4</td>\n",
              "      <td>0xBFE4BDFBE0E037478C29BA4F38121B15</td>\n",
              "      <td>1</td>\n",
              "      <td>1</td>\n",
              "      <td>2015</td>\n",
              "      <td>2015Q3</td>\n",
              "      <td>1</td>\n",
              "      <td>50</td>\n",
              "      <td>5180</td>\n",
              "      <td>...</td>\n",
              "      <td>-1</td>\n",
              "      <td>-1</td>\n",
              "      <td>-1</td>\n",
              "      <td>-1</td>\n",
              "      <td>162610.0</td>\n",
              "      <td>ВОЛОГОДСКАЯ ОБЛ</td>\n",
              "      <td>1</td>\n",
              "      <td>1</td>\n",
              "      <td>0</td>\n",
              "      <td>1</td>\n",
              "    </tr>\n",
              "    <tr>\n",
              "      <th>4</th>\n",
              "      <td>0</td>\n",
              "      <td>0x654EEEBA731C4A4881816631229C5B65</td>\n",
              "      <td>0x4B5C7804E403C842B4ECBF69BC3EDD7C</td>\n",
              "      <td>2</td>\n",
              "      <td>1</td>\n",
              "      <td>2011</td>\n",
              "      <td>2011Q3</td>\n",
              "      <td>-1</td>\n",
              "      <td>46</td>\n",
              "      <td>296</td>\n",
              "      <td>...</td>\n",
              "      <td>0</td>\n",
              "      <td>-1</td>\n",
              "      <td>-1</td>\n",
              "      <td>-1</td>\n",
              "      <td>427111.0</td>\n",
              "      <td>УДМУРТСКАЯ РЕСП</td>\n",
              "      <td>1</td>\n",
              "      <td>1</td>\n",
              "      <td>0</td>\n",
              "      <td>1</td>\n",
              "    </tr>\n",
              "    <tr>\n",
              "      <th>5</th>\n",
              "      <td>2</td>\n",
              "      <td>0xF122487FAF4C5747BE4D3B63FE775D82</td>\n",
              "      <td>0x2BE14D69E1D797449A658B24274725E4</td>\n",
              "      <td>1</td>\n",
              "      <td>2</td>\n",
              "      <td>2015</td>\n",
              "      <td>2015Q4</td>\n",
              "      <td>1</td>\n",
              "      <td>28</td>\n",
              "      <td>3398</td>\n",
              "      <td>...</td>\n",
              "      <td>-1</td>\n",
              "      <td>-1</td>\n",
              "      <td>-1</td>\n",
              "      <td>-1</td>\n",
              "      <td>606512.0</td>\n",
              "      <td>НИЖЕГОРОДСКАЯ ОБЛ</td>\n",
              "      <td>-1</td>\n",
              "      <td>1</td>\n",
              "      <td>0</td>\n",
              "      <td>0</td>\n",
              "    </tr>\n",
              "    <tr>\n",
              "      <th>6</th>\n",
              "      <td>0</td>\n",
              "      <td>0xA629005056964A2C11ED58F4BF8D9DA0</td>\n",
              "      <td>0xA62A005056964A2C11ED84FCEB1528B0</td>\n",
              "      <td>2</td>\n",
              "      <td>3</td>\n",
              "      <td>2022</td>\n",
              "      <td>2022Q2</td>\n",
              "      <td>1</td>\n",
              "      <td>45</td>\n",
              "      <td>198</td>\n",
              "      <td>...</td>\n",
              "      <td>0</td>\n",
              "      <td>-1</td>\n",
              "      <td>-1</td>\n",
              "      <td>-1</td>\n",
              "      <td>693022.0</td>\n",
              "      <td>САХАЛИНСКАЯ ОБЛ</td>\n",
              "      <td>1</td>\n",
              "      <td>-1</td>\n",
              "      <td>0</td>\n",
              "      <td>1</td>\n",
              "    </tr>\n",
              "    <tr>\n",
              "      <th>7</th>\n",
              "      <td>0</td>\n",
              "      <td>0xDC5AABE97573364C90FCF3A0332FE891</td>\n",
              "      <td>0xFF24368E83A0B144968BB01B57A1418D</td>\n",
              "      <td>2</td>\n",
              "      <td>1</td>\n",
              "      <td>2022</td>\n",
              "      <td>2022Q1</td>\n",
              "      <td>-1</td>\n",
              "      <td>58</td>\n",
              "      <td>2823</td>\n",
              "      <td>...</td>\n",
              "      <td>0</td>\n",
              "      <td>1</td>\n",
              "      <td>-1</td>\n",
              "      <td>-1</td>\n",
              "      <td>390035.0</td>\n",
              "      <td>РЯЗАНСКАЯ ОБЛ</td>\n",
              "      <td>1</td>\n",
              "      <td>1</td>\n",
              "      <td>0</td>\n",
              "      <td>1</td>\n",
              "    </tr>\n",
              "    <tr>\n",
              "      <th>8</th>\n",
              "      <td>0</td>\n",
              "      <td>0x43C9B1CBF066E64FBB46BFCEEF48C429</td>\n",
              "      <td>0xDF013406EFAB584298DCB380629899D0</td>\n",
              "      <td>1</td>\n",
              "      <td>1</td>\n",
              "      <td>2017</td>\n",
              "      <td>2017Q1</td>\n",
              "      <td>1</td>\n",
              "      <td>51</td>\n",
              "      <td>2367</td>\n",
              "      <td>...</td>\n",
              "      <td>0</td>\n",
              "      <td>1</td>\n",
              "      <td>-1</td>\n",
              "      <td>-1</td>\n",
              "      <td>446206.0</td>\n",
              "      <td>САМАРСКАЯ ОБЛ</td>\n",
              "      <td>1</td>\n",
              "      <td>1</td>\n",
              "      <td>0</td>\n",
              "      <td>1</td>\n",
              "    </tr>\n",
              "    <tr>\n",
              "      <th>9</th>\n",
              "      <td>2</td>\n",
              "      <td>0x5C73A9B5A4C2D94A94D33E16E1ABBCF1</td>\n",
              "      <td>0x0B0ECAD8062F0142A108C2C902FA7BFF</td>\n",
              "      <td>1</td>\n",
              "      <td>1</td>\n",
              "      <td>2015</td>\n",
              "      <td>2015Q1</td>\n",
              "      <td>-1</td>\n",
              "      <td>45</td>\n",
              "      <td>4991</td>\n",
              "      <td>...</td>\n",
              "      <td>-1</td>\n",
              "      <td>-1</td>\n",
              "      <td>-1</td>\n",
              "      <td>-1</td>\n",
              "      <td>162626.0</td>\n",
              "      <td>ВОЛОГОДСКАЯ ОБЛ</td>\n",
              "      <td>1</td>\n",
              "      <td>1</td>\n",
              "      <td>0</td>\n",
              "      <td>0</td>\n",
              "    </tr>\n",
              "  </tbody>\n",
              "</table>\n",
              "<p>10 rows × 41 columns</p>\n",
              "</div>\n",
              "    <div class=\"colab-df-buttons\">\n",
              "\n",
              "  <div class=\"colab-df-container\">\n",
              "    <button class=\"colab-df-convert\" onclick=\"convertToInteractive('df-1acdae43-5ec3-477b-b7ef-75ae8533382d')\"\n",
              "            title=\"Convert this dataframe to an interactive table.\"\n",
              "            style=\"display:none;\">\n",
              "\n",
              "  <svg xmlns=\"http://www.w3.org/2000/svg\" height=\"24px\" viewBox=\"0 -960 960 960\">\n",
              "    <path d=\"M120-120v-720h720v720H120Zm60-500h600v-160H180v160Zm220 220h160v-160H400v160Zm0 220h160v-160H400v160ZM180-400h160v-160H180v160Zm440 0h160v-160H620v160ZM180-180h160v-160H180v160Zm440 0h160v-160H620v160Z\"/>\n",
              "  </svg>\n",
              "    </button>\n",
              "\n",
              "  <style>\n",
              "    .colab-df-container {\n",
              "      display:flex;\n",
              "      gap: 12px;\n",
              "    }\n",
              "\n",
              "    .colab-df-convert {\n",
              "      background-color: #E8F0FE;\n",
              "      border: none;\n",
              "      border-radius: 50%;\n",
              "      cursor: pointer;\n",
              "      display: none;\n",
              "      fill: #1967D2;\n",
              "      height: 32px;\n",
              "      padding: 0 0 0 0;\n",
              "      width: 32px;\n",
              "    }\n",
              "\n",
              "    .colab-df-convert:hover {\n",
              "      background-color: #E2EBFA;\n",
              "      box-shadow: 0px 1px 2px rgba(60, 64, 67, 0.3), 0px 1px 3px 1px rgba(60, 64, 67, 0.15);\n",
              "      fill: #174EA6;\n",
              "    }\n",
              "\n",
              "    .colab-df-buttons div {\n",
              "      margin-bottom: 4px;\n",
              "    }\n",
              "\n",
              "    [theme=dark] .colab-df-convert {\n",
              "      background-color: #3B4455;\n",
              "      fill: #D2E3FC;\n",
              "    }\n",
              "\n",
              "    [theme=dark] .colab-df-convert:hover {\n",
              "      background-color: #434B5C;\n",
              "      box-shadow: 0px 1px 3px 1px rgba(0, 0, 0, 0.15);\n",
              "      filter: drop-shadow(0px 1px 2px rgba(0, 0, 0, 0.3));\n",
              "      fill: #FFFFFF;\n",
              "    }\n",
              "  </style>\n",
              "\n",
              "    <script>\n",
              "      const buttonEl =\n",
              "        document.querySelector('#df-1acdae43-5ec3-477b-b7ef-75ae8533382d button.colab-df-convert');\n",
              "      buttonEl.style.display =\n",
              "        google.colab.kernel.accessAllowed ? 'block' : 'none';\n",
              "\n",
              "      async function convertToInteractive(key) {\n",
              "        const element = document.querySelector('#df-1acdae43-5ec3-477b-b7ef-75ae8533382d');\n",
              "        const dataTable =\n",
              "          await google.colab.kernel.invokeFunction('convertToInteractive',\n",
              "                                                    [key], {});\n",
              "        if (!dataTable) return;\n",
              "\n",
              "        const docLinkHtml = 'Like what you see? Visit the ' +\n",
              "          '<a target=\"_blank\" href=https://colab.research.google.com/notebooks/data_table.ipynb>data table notebook</a>'\n",
              "          + ' to learn more about interactive tables.';\n",
              "        element.innerHTML = '';\n",
              "        dataTable['output_type'] = 'display_data';\n",
              "        await google.colab.output.renderOutput(dataTable, element);\n",
              "        const docLink = document.createElement('div');\n",
              "        docLink.innerHTML = docLinkHtml;\n",
              "        element.appendChild(docLink);\n",
              "      }\n",
              "    </script>\n",
              "  </div>\n",
              "\n",
              "\n",
              "<div id=\"df-175f6d2c-fa78-4279-a129-66b48b8394d1\">\n",
              "  <button class=\"colab-df-quickchart\" onclick=\"quickchart('df-175f6d2c-fa78-4279-a129-66b48b8394d1')\"\n",
              "            title=\"Suggest charts\"\n",
              "            style=\"display:none;\">\n",
              "\n",
              "<svg xmlns=\"http://www.w3.org/2000/svg\" height=\"24px\"viewBox=\"0 0 24 24\"\n",
              "     width=\"24px\">\n",
              "    <g>\n",
              "        <path d=\"M19 3H5c-1.1 0-2 .9-2 2v14c0 1.1.9 2 2 2h14c1.1 0 2-.9 2-2V5c0-1.1-.9-2-2-2zM9 17H7v-7h2v7zm4 0h-2V7h2v10zm4 0h-2v-4h2v4z\"/>\n",
              "    </g>\n",
              "</svg>\n",
              "  </button>\n",
              "\n",
              "<style>\n",
              "  .colab-df-quickchart {\n",
              "      --bg-color: #E8F0FE;\n",
              "      --fill-color: #1967D2;\n",
              "      --hover-bg-color: #E2EBFA;\n",
              "      --hover-fill-color: #174EA6;\n",
              "      --disabled-fill-color: #AAA;\n",
              "      --disabled-bg-color: #DDD;\n",
              "  }\n",
              "\n",
              "  [theme=dark] .colab-df-quickchart {\n",
              "      --bg-color: #3B4455;\n",
              "      --fill-color: #D2E3FC;\n",
              "      --hover-bg-color: #434B5C;\n",
              "      --hover-fill-color: #FFFFFF;\n",
              "      --disabled-bg-color: #3B4455;\n",
              "      --disabled-fill-color: #666;\n",
              "  }\n",
              "\n",
              "  .colab-df-quickchart {\n",
              "    background-color: var(--bg-color);\n",
              "    border: none;\n",
              "    border-radius: 50%;\n",
              "    cursor: pointer;\n",
              "    display: none;\n",
              "    fill: var(--fill-color);\n",
              "    height: 32px;\n",
              "    padding: 0;\n",
              "    width: 32px;\n",
              "  }\n",
              "\n",
              "  .colab-df-quickchart:hover {\n",
              "    background-color: var(--hover-bg-color);\n",
              "    box-shadow: 0 1px 2px rgba(60, 64, 67, 0.3), 0 1px 3px 1px rgba(60, 64, 67, 0.15);\n",
              "    fill: var(--button-hover-fill-color);\n",
              "  }\n",
              "\n",
              "  .colab-df-quickchart-complete:disabled,\n",
              "  .colab-df-quickchart-complete:disabled:hover {\n",
              "    background-color: var(--disabled-bg-color);\n",
              "    fill: var(--disabled-fill-color);\n",
              "    box-shadow: none;\n",
              "  }\n",
              "\n",
              "  .colab-df-spinner {\n",
              "    border: 2px solid var(--fill-color);\n",
              "    border-color: transparent;\n",
              "    border-bottom-color: var(--fill-color);\n",
              "    animation:\n",
              "      spin 1s steps(1) infinite;\n",
              "  }\n",
              "\n",
              "  @keyframes spin {\n",
              "    0% {\n",
              "      border-color: transparent;\n",
              "      border-bottom-color: var(--fill-color);\n",
              "      border-left-color: var(--fill-color);\n",
              "    }\n",
              "    20% {\n",
              "      border-color: transparent;\n",
              "      border-left-color: var(--fill-color);\n",
              "      border-top-color: var(--fill-color);\n",
              "    }\n",
              "    30% {\n",
              "      border-color: transparent;\n",
              "      border-left-color: var(--fill-color);\n",
              "      border-top-color: var(--fill-color);\n",
              "      border-right-color: var(--fill-color);\n",
              "    }\n",
              "    40% {\n",
              "      border-color: transparent;\n",
              "      border-right-color: var(--fill-color);\n",
              "      border-top-color: var(--fill-color);\n",
              "    }\n",
              "    60% {\n",
              "      border-color: transparent;\n",
              "      border-right-color: var(--fill-color);\n",
              "    }\n",
              "    80% {\n",
              "      border-color: transparent;\n",
              "      border-right-color: var(--fill-color);\n",
              "      border-bottom-color: var(--fill-color);\n",
              "    }\n",
              "    90% {\n",
              "      border-color: transparent;\n",
              "      border-bottom-color: var(--fill-color);\n",
              "    }\n",
              "  }\n",
              "</style>\n",
              "\n",
              "  <script>\n",
              "    async function quickchart(key) {\n",
              "      const quickchartButtonEl =\n",
              "        document.querySelector('#' + key + ' button');\n",
              "      quickchartButtonEl.disabled = true;  // To prevent multiple clicks.\n",
              "      quickchartButtonEl.classList.add('colab-df-spinner');\n",
              "      try {\n",
              "        const charts = await google.colab.kernel.invokeFunction(\n",
              "            'suggestCharts', [key], {});\n",
              "      } catch (error) {\n",
              "        console.error('Error during call to suggestCharts:', error);\n",
              "      }\n",
              "      quickchartButtonEl.classList.remove('colab-df-spinner');\n",
              "      quickchartButtonEl.classList.add('colab-df-quickchart-complete');\n",
              "    }\n",
              "    (() => {\n",
              "      let quickchartButtonEl =\n",
              "        document.querySelector('#df-175f6d2c-fa78-4279-a129-66b48b8394d1 button');\n",
              "      quickchartButtonEl.style.display =\n",
              "        google.colab.kernel.accessAllowed ? 'block' : 'none';\n",
              "    })();\n",
              "  </script>\n",
              "</div>\n",
              "    </div>\n",
              "  </div>\n"
            ],
            "application/vnd.google.colaboratory.intrinsic+json": {
              "type": "dataframe"
            }
          },
          "metadata": {},
          "execution_count": 26
        }
      ]
    },
    {
      "cell_type": "code",
      "source": [
        "test.columns.tolist()"
      ],
      "metadata": {
        "colab": {
          "base_uri": "https://localhost:8080/"
        },
        "id": "WVlJRuLIQXXS",
        "outputId": "42cdda8b-19d1-4569-f320-8f64be63fe5c"
      },
      "execution_count": 13,
      "outputs": [
        {
          "output_type": "execute_result",
          "data": {
            "text/plain": [
              "['slctn_nmbr',\n",
              " 'client_id',\n",
              " 'npo_account_id',\n",
              " 'npo_accnts_nmbr',\n",
              " 'pmnts_type',\n",
              " 'year',\n",
              " 'quarter',\n",
              " 'gender',\n",
              " 'age',\n",
              " 'clnt_cprtn_time_d',\n",
              " 'actv_prd_d',\n",
              " 'lst_pmnt_rcnc_d',\n",
              " 'balance',\n",
              " 'oprtn_sum_per_qrtr',\n",
              " 'oprtn_sum_per_year',\n",
              " 'frst_pmnt_date',\n",
              " 'lst_pmnt_date_per_qrtr',\n",
              " 'frst_pmnt',\n",
              " 'lst_pmnt',\n",
              " 'pmnts_sum',\n",
              " 'pmnts_nmbr',\n",
              " 'pmnts_sum_per_qrtr',\n",
              " 'pmnts_sum_per_year',\n",
              " 'pmnts_nmbr_per_qrtr',\n",
              " 'pmnts_nmbr_per_year',\n",
              " 'incm_sum',\n",
              " 'incm_per_qrtr',\n",
              " 'incm_per_year',\n",
              " 'mgd_accum_period',\n",
              " 'mgd_payment_period',\n",
              " 'phone_number',\n",
              " 'email',\n",
              " 'lk',\n",
              " 'assignee_npo',\n",
              " 'assignee_ops',\n",
              " 'postal_code',\n",
              " 'region',\n",
              " 'citizen',\n",
              " 'fact_addrss',\n",
              " 'appl_mrkr',\n",
              " 'evry_qrtr_pmnt']"
            ]
          },
          "metadata": {},
          "execution_count": 13
        }
      ]
    },
    {
      "cell_type": "code",
      "source": [
        "trnsctns=pd.read_csv(data_path + '/'+ 'trnsctns.csv', sep=';')\n",
        "trnsctns[:10]"
      ],
      "metadata": {
        "id": "VqKF_EGolkou",
        "colab": {
          "base_uri": "https://localhost:8080/",
          "height": 363
        },
        "outputId": "06b6bf57-bfb8-4094-bd0b-70ca84840b00"
      },
      "execution_count": 4,
      "outputs": [
        {
          "output_type": "execute_result",
          "data": {
            "text/plain": [
              "   slctn_nmbr                      npo_account_id  npo_sum npo_oprtn_date  \\\n",
              "0           2  0x555990CC98CCF8469BE5911D37811A4A    57.72     2000-01-02   \n",
              "1           2  0x555990CC98CCF8469BE5911D37811A4A   288.61     2000-01-03   \n",
              "2           2  0x555990CC98CCF8469BE5911D37811A4A    78.04     2000-01-16   \n",
              "3           2  0x555990CC98CCF8469BE5911D37811A4A    78.04     2000-02-15   \n",
              "4           2  0x555990CC98CCF8469BE5911D37811A4A    85.36     2000-03-16   \n",
              "5           2  0x555990CC98CCF8469BE5911D37811A4A   -85.37     2000-04-16   \n",
              "6           2  0xF2FE9B5459E085438FAB91113FB7F36F    85.36     2000-07-10   \n",
              "7           2  0xF2FE9B5459E085438FAB91113FB7F36F    85.36     2000-08-14   \n",
              "8           2  0xF2FE9B5459E085438FAB91113FB7F36F    94.30     2000-09-14   \n",
              "9           2  0xF2FE9B5459E085438FAB91113FB7F36F    94.30     2000-10-10   \n",
              "\n",
              "   npo_oprtn_grp quarter  year  \n",
              "0              0  2000Q1  2000  \n",
              "1              0  2000Q1  2000  \n",
              "2              1  2000Q1  2000  \n",
              "3              1  2000Q1  2000  \n",
              "4              1  2000Q1  2000  \n",
              "5              1  2000Q2  2000  \n",
              "6              1  2000Q3  2000  \n",
              "7              1  2000Q3  2000  \n",
              "8              1  2000Q3  2000  \n",
              "9              1  2000Q4  2000  "
            ],
            "text/html": [
              "\n",
              "  <div id=\"df-2ac2360f-06ac-4136-b1a8-504b1fdc1c96\" class=\"colab-df-container\">\n",
              "    <div>\n",
              "<style scoped>\n",
              "    .dataframe tbody tr th:only-of-type {\n",
              "        vertical-align: middle;\n",
              "    }\n",
              "\n",
              "    .dataframe tbody tr th {\n",
              "        vertical-align: top;\n",
              "    }\n",
              "\n",
              "    .dataframe thead th {\n",
              "        text-align: right;\n",
              "    }\n",
              "</style>\n",
              "<table border=\"1\" class=\"dataframe\">\n",
              "  <thead>\n",
              "    <tr style=\"text-align: right;\">\n",
              "      <th></th>\n",
              "      <th>slctn_nmbr</th>\n",
              "      <th>npo_account_id</th>\n",
              "      <th>npo_sum</th>\n",
              "      <th>npo_oprtn_date</th>\n",
              "      <th>npo_oprtn_grp</th>\n",
              "      <th>quarter</th>\n",
              "      <th>year</th>\n",
              "    </tr>\n",
              "  </thead>\n",
              "  <tbody>\n",
              "    <tr>\n",
              "      <th>0</th>\n",
              "      <td>2</td>\n",
              "      <td>0x555990CC98CCF8469BE5911D37811A4A</td>\n",
              "      <td>57.72</td>\n",
              "      <td>2000-01-02</td>\n",
              "      <td>0</td>\n",
              "      <td>2000Q1</td>\n",
              "      <td>2000</td>\n",
              "    </tr>\n",
              "    <tr>\n",
              "      <th>1</th>\n",
              "      <td>2</td>\n",
              "      <td>0x555990CC98CCF8469BE5911D37811A4A</td>\n",
              "      <td>288.61</td>\n",
              "      <td>2000-01-03</td>\n",
              "      <td>0</td>\n",
              "      <td>2000Q1</td>\n",
              "      <td>2000</td>\n",
              "    </tr>\n",
              "    <tr>\n",
              "      <th>2</th>\n",
              "      <td>2</td>\n",
              "      <td>0x555990CC98CCF8469BE5911D37811A4A</td>\n",
              "      <td>78.04</td>\n",
              "      <td>2000-01-16</td>\n",
              "      <td>1</td>\n",
              "      <td>2000Q1</td>\n",
              "      <td>2000</td>\n",
              "    </tr>\n",
              "    <tr>\n",
              "      <th>3</th>\n",
              "      <td>2</td>\n",
              "      <td>0x555990CC98CCF8469BE5911D37811A4A</td>\n",
              "      <td>78.04</td>\n",
              "      <td>2000-02-15</td>\n",
              "      <td>1</td>\n",
              "      <td>2000Q1</td>\n",
              "      <td>2000</td>\n",
              "    </tr>\n",
              "    <tr>\n",
              "      <th>4</th>\n",
              "      <td>2</td>\n",
              "      <td>0x555990CC98CCF8469BE5911D37811A4A</td>\n",
              "      <td>85.36</td>\n",
              "      <td>2000-03-16</td>\n",
              "      <td>1</td>\n",
              "      <td>2000Q1</td>\n",
              "      <td>2000</td>\n",
              "    </tr>\n",
              "    <tr>\n",
              "      <th>5</th>\n",
              "      <td>2</td>\n",
              "      <td>0x555990CC98CCF8469BE5911D37811A4A</td>\n",
              "      <td>-85.37</td>\n",
              "      <td>2000-04-16</td>\n",
              "      <td>1</td>\n",
              "      <td>2000Q2</td>\n",
              "      <td>2000</td>\n",
              "    </tr>\n",
              "    <tr>\n",
              "      <th>6</th>\n",
              "      <td>2</td>\n",
              "      <td>0xF2FE9B5459E085438FAB91113FB7F36F</td>\n",
              "      <td>85.36</td>\n",
              "      <td>2000-07-10</td>\n",
              "      <td>1</td>\n",
              "      <td>2000Q3</td>\n",
              "      <td>2000</td>\n",
              "    </tr>\n",
              "    <tr>\n",
              "      <th>7</th>\n",
              "      <td>2</td>\n",
              "      <td>0xF2FE9B5459E085438FAB91113FB7F36F</td>\n",
              "      <td>85.36</td>\n",
              "      <td>2000-08-14</td>\n",
              "      <td>1</td>\n",
              "      <td>2000Q3</td>\n",
              "      <td>2000</td>\n",
              "    </tr>\n",
              "    <tr>\n",
              "      <th>8</th>\n",
              "      <td>2</td>\n",
              "      <td>0xF2FE9B5459E085438FAB91113FB7F36F</td>\n",
              "      <td>94.30</td>\n",
              "      <td>2000-09-14</td>\n",
              "      <td>1</td>\n",
              "      <td>2000Q3</td>\n",
              "      <td>2000</td>\n",
              "    </tr>\n",
              "    <tr>\n",
              "      <th>9</th>\n",
              "      <td>2</td>\n",
              "      <td>0xF2FE9B5459E085438FAB91113FB7F36F</td>\n",
              "      <td>94.30</td>\n",
              "      <td>2000-10-10</td>\n",
              "      <td>1</td>\n",
              "      <td>2000Q4</td>\n",
              "      <td>2000</td>\n",
              "    </tr>\n",
              "  </tbody>\n",
              "</table>\n",
              "</div>\n",
              "    <div class=\"colab-df-buttons\">\n",
              "\n",
              "  <div class=\"colab-df-container\">\n",
              "    <button class=\"colab-df-convert\" onclick=\"convertToInteractive('df-2ac2360f-06ac-4136-b1a8-504b1fdc1c96')\"\n",
              "            title=\"Convert this dataframe to an interactive table.\"\n",
              "            style=\"display:none;\">\n",
              "\n",
              "  <svg xmlns=\"http://www.w3.org/2000/svg\" height=\"24px\" viewBox=\"0 -960 960 960\">\n",
              "    <path d=\"M120-120v-720h720v720H120Zm60-500h600v-160H180v160Zm220 220h160v-160H400v160Zm0 220h160v-160H400v160ZM180-400h160v-160H180v160Zm440 0h160v-160H620v160ZM180-180h160v-160H180v160Zm440 0h160v-160H620v160Z\"/>\n",
              "  </svg>\n",
              "    </button>\n",
              "\n",
              "  <style>\n",
              "    .colab-df-container {\n",
              "      display:flex;\n",
              "      gap: 12px;\n",
              "    }\n",
              "\n",
              "    .colab-df-convert {\n",
              "      background-color: #E8F0FE;\n",
              "      border: none;\n",
              "      border-radius: 50%;\n",
              "      cursor: pointer;\n",
              "      display: none;\n",
              "      fill: #1967D2;\n",
              "      height: 32px;\n",
              "      padding: 0 0 0 0;\n",
              "      width: 32px;\n",
              "    }\n",
              "\n",
              "    .colab-df-convert:hover {\n",
              "      background-color: #E2EBFA;\n",
              "      box-shadow: 0px 1px 2px rgba(60, 64, 67, 0.3), 0px 1px 3px 1px rgba(60, 64, 67, 0.15);\n",
              "      fill: #174EA6;\n",
              "    }\n",
              "\n",
              "    .colab-df-buttons div {\n",
              "      margin-bottom: 4px;\n",
              "    }\n",
              "\n",
              "    [theme=dark] .colab-df-convert {\n",
              "      background-color: #3B4455;\n",
              "      fill: #D2E3FC;\n",
              "    }\n",
              "\n",
              "    [theme=dark] .colab-df-convert:hover {\n",
              "      background-color: #434B5C;\n",
              "      box-shadow: 0px 1px 3px 1px rgba(0, 0, 0, 0.15);\n",
              "      filter: drop-shadow(0px 1px 2px rgba(0, 0, 0, 0.3));\n",
              "      fill: #FFFFFF;\n",
              "    }\n",
              "  </style>\n",
              "\n",
              "    <script>\n",
              "      const buttonEl =\n",
              "        document.querySelector('#df-2ac2360f-06ac-4136-b1a8-504b1fdc1c96 button.colab-df-convert');\n",
              "      buttonEl.style.display =\n",
              "        google.colab.kernel.accessAllowed ? 'block' : 'none';\n",
              "\n",
              "      async function convertToInteractive(key) {\n",
              "        const element = document.querySelector('#df-2ac2360f-06ac-4136-b1a8-504b1fdc1c96');\n",
              "        const dataTable =\n",
              "          await google.colab.kernel.invokeFunction('convertToInteractive',\n",
              "                                                    [key], {});\n",
              "        if (!dataTable) return;\n",
              "\n",
              "        const docLinkHtml = 'Like what you see? Visit the ' +\n",
              "          '<a target=\"_blank\" href=https://colab.research.google.com/notebooks/data_table.ipynb>data table notebook</a>'\n",
              "          + ' to learn more about interactive tables.';\n",
              "        element.innerHTML = '';\n",
              "        dataTable['output_type'] = 'display_data';\n",
              "        await google.colab.output.renderOutput(dataTable, element);\n",
              "        const docLink = document.createElement('div');\n",
              "        docLink.innerHTML = docLinkHtml;\n",
              "        element.appendChild(docLink);\n",
              "      }\n",
              "    </script>\n",
              "  </div>\n",
              "\n",
              "\n",
              "<div id=\"df-055a3179-e4c7-421a-96ed-3079267f268a\">\n",
              "  <button class=\"colab-df-quickchart\" onclick=\"quickchart('df-055a3179-e4c7-421a-96ed-3079267f268a')\"\n",
              "            title=\"Suggest charts\"\n",
              "            style=\"display:none;\">\n",
              "\n",
              "<svg xmlns=\"http://www.w3.org/2000/svg\" height=\"24px\"viewBox=\"0 0 24 24\"\n",
              "     width=\"24px\">\n",
              "    <g>\n",
              "        <path d=\"M19 3H5c-1.1 0-2 .9-2 2v14c0 1.1.9 2 2 2h14c1.1 0 2-.9 2-2V5c0-1.1-.9-2-2-2zM9 17H7v-7h2v7zm4 0h-2V7h2v10zm4 0h-2v-4h2v4z\"/>\n",
              "    </g>\n",
              "</svg>\n",
              "  </button>\n",
              "\n",
              "<style>\n",
              "  .colab-df-quickchart {\n",
              "      --bg-color: #E8F0FE;\n",
              "      --fill-color: #1967D2;\n",
              "      --hover-bg-color: #E2EBFA;\n",
              "      --hover-fill-color: #174EA6;\n",
              "      --disabled-fill-color: #AAA;\n",
              "      --disabled-bg-color: #DDD;\n",
              "  }\n",
              "\n",
              "  [theme=dark] .colab-df-quickchart {\n",
              "      --bg-color: #3B4455;\n",
              "      --fill-color: #D2E3FC;\n",
              "      --hover-bg-color: #434B5C;\n",
              "      --hover-fill-color: #FFFFFF;\n",
              "      --disabled-bg-color: #3B4455;\n",
              "      --disabled-fill-color: #666;\n",
              "  }\n",
              "\n",
              "  .colab-df-quickchart {\n",
              "    background-color: var(--bg-color);\n",
              "    border: none;\n",
              "    border-radius: 50%;\n",
              "    cursor: pointer;\n",
              "    display: none;\n",
              "    fill: var(--fill-color);\n",
              "    height: 32px;\n",
              "    padding: 0;\n",
              "    width: 32px;\n",
              "  }\n",
              "\n",
              "  .colab-df-quickchart:hover {\n",
              "    background-color: var(--hover-bg-color);\n",
              "    box-shadow: 0 1px 2px rgba(60, 64, 67, 0.3), 0 1px 3px 1px rgba(60, 64, 67, 0.15);\n",
              "    fill: var(--button-hover-fill-color);\n",
              "  }\n",
              "\n",
              "  .colab-df-quickchart-complete:disabled,\n",
              "  .colab-df-quickchart-complete:disabled:hover {\n",
              "    background-color: var(--disabled-bg-color);\n",
              "    fill: var(--disabled-fill-color);\n",
              "    box-shadow: none;\n",
              "  }\n",
              "\n",
              "  .colab-df-spinner {\n",
              "    border: 2px solid var(--fill-color);\n",
              "    border-color: transparent;\n",
              "    border-bottom-color: var(--fill-color);\n",
              "    animation:\n",
              "      spin 1s steps(1) infinite;\n",
              "  }\n",
              "\n",
              "  @keyframes spin {\n",
              "    0% {\n",
              "      border-color: transparent;\n",
              "      border-bottom-color: var(--fill-color);\n",
              "      border-left-color: var(--fill-color);\n",
              "    }\n",
              "    20% {\n",
              "      border-color: transparent;\n",
              "      border-left-color: var(--fill-color);\n",
              "      border-top-color: var(--fill-color);\n",
              "    }\n",
              "    30% {\n",
              "      border-color: transparent;\n",
              "      border-left-color: var(--fill-color);\n",
              "      border-top-color: var(--fill-color);\n",
              "      border-right-color: var(--fill-color);\n",
              "    }\n",
              "    40% {\n",
              "      border-color: transparent;\n",
              "      border-right-color: var(--fill-color);\n",
              "      border-top-color: var(--fill-color);\n",
              "    }\n",
              "    60% {\n",
              "      border-color: transparent;\n",
              "      border-right-color: var(--fill-color);\n",
              "    }\n",
              "    80% {\n",
              "      border-color: transparent;\n",
              "      border-right-color: var(--fill-color);\n",
              "      border-bottom-color: var(--fill-color);\n",
              "    }\n",
              "    90% {\n",
              "      border-color: transparent;\n",
              "      border-bottom-color: var(--fill-color);\n",
              "    }\n",
              "  }\n",
              "</style>\n",
              "\n",
              "  <script>\n",
              "    async function quickchart(key) {\n",
              "      const quickchartButtonEl =\n",
              "        document.querySelector('#' + key + ' button');\n",
              "      quickchartButtonEl.disabled = true;  // To prevent multiple clicks.\n",
              "      quickchartButtonEl.classList.add('colab-df-spinner');\n",
              "      try {\n",
              "        const charts = await google.colab.kernel.invokeFunction(\n",
              "            'suggestCharts', [key], {});\n",
              "      } catch (error) {\n",
              "        console.error('Error during call to suggestCharts:', error);\n",
              "      }\n",
              "      quickchartButtonEl.classList.remove('colab-df-spinner');\n",
              "      quickchartButtonEl.classList.add('colab-df-quickchart-complete');\n",
              "    }\n",
              "    (() => {\n",
              "      let quickchartButtonEl =\n",
              "        document.querySelector('#df-055a3179-e4c7-421a-96ed-3079267f268a button');\n",
              "      quickchartButtonEl.style.display =\n",
              "        google.colab.kernel.accessAllowed ? 'block' : 'none';\n",
              "    })();\n",
              "  </script>\n",
              "</div>\n",
              "    </div>\n",
              "  </div>\n"
            ],
            "application/vnd.google.colaboratory.intrinsic+json": {
              "type": "dataframe",
              "summary": "{\n  \"name\": \"trnsctns[:10]\",\n  \"rows\": 10,\n  \"fields\": [\n    {\n      \"column\": \"slctn_nmbr\",\n      \"properties\": {\n        \"dtype\": \"number\",\n        \"std\": 0,\n        \"min\": 2,\n        \"max\": 2,\n        \"num_unique_values\": 1,\n        \"samples\": [\n          2\n        ],\n        \"semantic_type\": \"\",\n        \"description\": \"\"\n      }\n    },\n    {\n      \"column\": \"npo_account_id\",\n      \"properties\": {\n        \"dtype\": \"category\",\n        \"num_unique_values\": 2,\n        \"samples\": [\n          \"0xF2FE9B5459E085438FAB91113FB7F36F\"\n        ],\n        \"semantic_type\": \"\",\n        \"description\": \"\"\n      }\n    },\n    {\n      \"column\": \"npo_sum\",\n      \"properties\": {\n        \"dtype\": \"number\",\n        \"std\": 89.12144246289255,\n        \"min\": -85.37,\n        \"max\": 288.61,\n        \"num_unique_values\": 6,\n        \"samples\": [\n          57.72\n        ],\n        \"semantic_type\": \"\",\n        \"description\": \"\"\n      }\n    },\n    {\n      \"column\": \"npo_oprtn_date\",\n      \"properties\": {\n        \"dtype\": \"object\",\n        \"num_unique_values\": 10,\n        \"samples\": [\n          \"2000-09-14\"\n        ],\n        \"semantic_type\": \"\",\n        \"description\": \"\"\n      }\n    },\n    {\n      \"column\": \"npo_oprtn_grp\",\n      \"properties\": {\n        \"dtype\": \"number\",\n        \"std\": 0,\n        \"min\": 0,\n        \"max\": 1,\n        \"num_unique_values\": 2,\n        \"samples\": [\n          1\n        ],\n        \"semantic_type\": \"\",\n        \"description\": \"\"\n      }\n    },\n    {\n      \"column\": \"quarter\",\n      \"properties\": {\n        \"dtype\": \"object\",\n        \"num_unique_values\": 4,\n        \"samples\": [\n          \"2000Q2\"\n        ],\n        \"semantic_type\": \"\",\n        \"description\": \"\"\n      }\n    },\n    {\n      \"column\": \"year\",\n      \"properties\": {\n        \"dtype\": \"number\",\n        \"std\": 0,\n        \"min\": 2000,\n        \"max\": 2000,\n        \"num_unique_values\": 1,\n        \"samples\": [\n          2000\n        ],\n        \"semantic_type\": \"\",\n        \"description\": \"\"\n      }\n    }\n  ]\n}"
            }
          },
          "metadata": {},
          "execution_count": 4
        }
      ]
    },
    {
      "cell_type": "code",
      "source": [
        "cntrbtrs=pd.read_csv(data_path + '/'+ 'cntrbtrs.csv', sep=';')\n",
        "cntrbtrs[:10]"
      ],
      "metadata": {
        "colab": {
          "base_uri": "https://localhost:8080/",
          "height": 363
        },
        "id": "YBHiIySklq1g",
        "outputId": "020ee7d6-d93e-4ff3-8a6e-ae428309f602"
      },
      "execution_count": 5,
      "outputs": [
        {
          "output_type": "execute_result",
          "data": {
            "text/plain": [
              "   slctn_nmbr                        npo_accnt_id  accnt_pnsn_schm\n",
              "0           2  0x66FC8B311E1E204187F41966B73E313F              0.0\n",
              "1           2  0x675F74AFB447EF40AF1E4C042CCA440C              0.0\n",
              "2           2  0x6FFA52921209184BA47B1E919B713894              0.0\n",
              "3           2  0xB51B4374207FE0458B29FD1F9CBF69EB              1.0\n",
              "4           2  0x7AC3935CC4DADE419F8378B9C276DEF7              2.0\n",
              "5           2  0xE1E067B53D11184CA8A5268A04E26128              3.0\n",
              "6           2  0xB71656505FEF9E4FAF0270CF8DFB1AAB              0.0\n",
              "7           2  0xFF0C17D726CB9745BACE0812C5733BEE              3.0\n",
              "8           2  0xAAE5396725F5CD47A608999721C637D3              0.0\n",
              "9           2  0xB78B3B6910DD294AAF43A76A52E5BCEF              2.0"
            ],
            "text/html": [
              "\n",
              "  <div id=\"df-7dada33b-966c-4884-98f2-eaa1bd78c81f\" class=\"colab-df-container\">\n",
              "    <div>\n",
              "<style scoped>\n",
              "    .dataframe tbody tr th:only-of-type {\n",
              "        vertical-align: middle;\n",
              "    }\n",
              "\n",
              "    .dataframe tbody tr th {\n",
              "        vertical-align: top;\n",
              "    }\n",
              "\n",
              "    .dataframe thead th {\n",
              "        text-align: right;\n",
              "    }\n",
              "</style>\n",
              "<table border=\"1\" class=\"dataframe\">\n",
              "  <thead>\n",
              "    <tr style=\"text-align: right;\">\n",
              "      <th></th>\n",
              "      <th>slctn_nmbr</th>\n",
              "      <th>npo_accnt_id</th>\n",
              "      <th>accnt_pnsn_schm</th>\n",
              "    </tr>\n",
              "  </thead>\n",
              "  <tbody>\n",
              "    <tr>\n",
              "      <th>0</th>\n",
              "      <td>2</td>\n",
              "      <td>0x66FC8B311E1E204187F41966B73E313F</td>\n",
              "      <td>0.0</td>\n",
              "    </tr>\n",
              "    <tr>\n",
              "      <th>1</th>\n",
              "      <td>2</td>\n",
              "      <td>0x675F74AFB447EF40AF1E4C042CCA440C</td>\n",
              "      <td>0.0</td>\n",
              "    </tr>\n",
              "    <tr>\n",
              "      <th>2</th>\n",
              "      <td>2</td>\n",
              "      <td>0x6FFA52921209184BA47B1E919B713894</td>\n",
              "      <td>0.0</td>\n",
              "    </tr>\n",
              "    <tr>\n",
              "      <th>3</th>\n",
              "      <td>2</td>\n",
              "      <td>0xB51B4374207FE0458B29FD1F9CBF69EB</td>\n",
              "      <td>1.0</td>\n",
              "    </tr>\n",
              "    <tr>\n",
              "      <th>4</th>\n",
              "      <td>2</td>\n",
              "      <td>0x7AC3935CC4DADE419F8378B9C276DEF7</td>\n",
              "      <td>2.0</td>\n",
              "    </tr>\n",
              "    <tr>\n",
              "      <th>5</th>\n",
              "      <td>2</td>\n",
              "      <td>0xE1E067B53D11184CA8A5268A04E26128</td>\n",
              "      <td>3.0</td>\n",
              "    </tr>\n",
              "    <tr>\n",
              "      <th>6</th>\n",
              "      <td>2</td>\n",
              "      <td>0xB71656505FEF9E4FAF0270CF8DFB1AAB</td>\n",
              "      <td>0.0</td>\n",
              "    </tr>\n",
              "    <tr>\n",
              "      <th>7</th>\n",
              "      <td>2</td>\n",
              "      <td>0xFF0C17D726CB9745BACE0812C5733BEE</td>\n",
              "      <td>3.0</td>\n",
              "    </tr>\n",
              "    <tr>\n",
              "      <th>8</th>\n",
              "      <td>2</td>\n",
              "      <td>0xAAE5396725F5CD47A608999721C637D3</td>\n",
              "      <td>0.0</td>\n",
              "    </tr>\n",
              "    <tr>\n",
              "      <th>9</th>\n",
              "      <td>2</td>\n",
              "      <td>0xB78B3B6910DD294AAF43A76A52E5BCEF</td>\n",
              "      <td>2.0</td>\n",
              "    </tr>\n",
              "  </tbody>\n",
              "</table>\n",
              "</div>\n",
              "    <div class=\"colab-df-buttons\">\n",
              "\n",
              "  <div class=\"colab-df-container\">\n",
              "    <button class=\"colab-df-convert\" onclick=\"convertToInteractive('df-7dada33b-966c-4884-98f2-eaa1bd78c81f')\"\n",
              "            title=\"Convert this dataframe to an interactive table.\"\n",
              "            style=\"display:none;\">\n",
              "\n",
              "  <svg xmlns=\"http://www.w3.org/2000/svg\" height=\"24px\" viewBox=\"0 -960 960 960\">\n",
              "    <path d=\"M120-120v-720h720v720H120Zm60-500h600v-160H180v160Zm220 220h160v-160H400v160Zm0 220h160v-160H400v160ZM180-400h160v-160H180v160Zm440 0h160v-160H620v160ZM180-180h160v-160H180v160Zm440 0h160v-160H620v160Z\"/>\n",
              "  </svg>\n",
              "    </button>\n",
              "\n",
              "  <style>\n",
              "    .colab-df-container {\n",
              "      display:flex;\n",
              "      gap: 12px;\n",
              "    }\n",
              "\n",
              "    .colab-df-convert {\n",
              "      background-color: #E8F0FE;\n",
              "      border: none;\n",
              "      border-radius: 50%;\n",
              "      cursor: pointer;\n",
              "      display: none;\n",
              "      fill: #1967D2;\n",
              "      height: 32px;\n",
              "      padding: 0 0 0 0;\n",
              "      width: 32px;\n",
              "    }\n",
              "\n",
              "    .colab-df-convert:hover {\n",
              "      background-color: #E2EBFA;\n",
              "      box-shadow: 0px 1px 2px rgba(60, 64, 67, 0.3), 0px 1px 3px 1px rgba(60, 64, 67, 0.15);\n",
              "      fill: #174EA6;\n",
              "    }\n",
              "\n",
              "    .colab-df-buttons div {\n",
              "      margin-bottom: 4px;\n",
              "    }\n",
              "\n",
              "    [theme=dark] .colab-df-convert {\n",
              "      background-color: #3B4455;\n",
              "      fill: #D2E3FC;\n",
              "    }\n",
              "\n",
              "    [theme=dark] .colab-df-convert:hover {\n",
              "      background-color: #434B5C;\n",
              "      box-shadow: 0px 1px 3px 1px rgba(0, 0, 0, 0.15);\n",
              "      filter: drop-shadow(0px 1px 2px rgba(0, 0, 0, 0.3));\n",
              "      fill: #FFFFFF;\n",
              "    }\n",
              "  </style>\n",
              "\n",
              "    <script>\n",
              "      const buttonEl =\n",
              "        document.querySelector('#df-7dada33b-966c-4884-98f2-eaa1bd78c81f button.colab-df-convert');\n",
              "      buttonEl.style.display =\n",
              "        google.colab.kernel.accessAllowed ? 'block' : 'none';\n",
              "\n",
              "      async function convertToInteractive(key) {\n",
              "        const element = document.querySelector('#df-7dada33b-966c-4884-98f2-eaa1bd78c81f');\n",
              "        const dataTable =\n",
              "          await google.colab.kernel.invokeFunction('convertToInteractive',\n",
              "                                                    [key], {});\n",
              "        if (!dataTable) return;\n",
              "\n",
              "        const docLinkHtml = 'Like what you see? Visit the ' +\n",
              "          '<a target=\"_blank\" href=https://colab.research.google.com/notebooks/data_table.ipynb>data table notebook</a>'\n",
              "          + ' to learn more about interactive tables.';\n",
              "        element.innerHTML = '';\n",
              "        dataTable['output_type'] = 'display_data';\n",
              "        await google.colab.output.renderOutput(dataTable, element);\n",
              "        const docLink = document.createElement('div');\n",
              "        docLink.innerHTML = docLinkHtml;\n",
              "        element.appendChild(docLink);\n",
              "      }\n",
              "    </script>\n",
              "  </div>\n",
              "\n",
              "\n",
              "<div id=\"df-c9e6d95a-60c3-4a8e-b04a-7bd1e4120f89\">\n",
              "  <button class=\"colab-df-quickchart\" onclick=\"quickchart('df-c9e6d95a-60c3-4a8e-b04a-7bd1e4120f89')\"\n",
              "            title=\"Suggest charts\"\n",
              "            style=\"display:none;\">\n",
              "\n",
              "<svg xmlns=\"http://www.w3.org/2000/svg\" height=\"24px\"viewBox=\"0 0 24 24\"\n",
              "     width=\"24px\">\n",
              "    <g>\n",
              "        <path d=\"M19 3H5c-1.1 0-2 .9-2 2v14c0 1.1.9 2 2 2h14c1.1 0 2-.9 2-2V5c0-1.1-.9-2-2-2zM9 17H7v-7h2v7zm4 0h-2V7h2v10zm4 0h-2v-4h2v4z\"/>\n",
              "    </g>\n",
              "</svg>\n",
              "  </button>\n",
              "\n",
              "<style>\n",
              "  .colab-df-quickchart {\n",
              "      --bg-color: #E8F0FE;\n",
              "      --fill-color: #1967D2;\n",
              "      --hover-bg-color: #E2EBFA;\n",
              "      --hover-fill-color: #174EA6;\n",
              "      --disabled-fill-color: #AAA;\n",
              "      --disabled-bg-color: #DDD;\n",
              "  }\n",
              "\n",
              "  [theme=dark] .colab-df-quickchart {\n",
              "      --bg-color: #3B4455;\n",
              "      --fill-color: #D2E3FC;\n",
              "      --hover-bg-color: #434B5C;\n",
              "      --hover-fill-color: #FFFFFF;\n",
              "      --disabled-bg-color: #3B4455;\n",
              "      --disabled-fill-color: #666;\n",
              "  }\n",
              "\n",
              "  .colab-df-quickchart {\n",
              "    background-color: var(--bg-color);\n",
              "    border: none;\n",
              "    border-radius: 50%;\n",
              "    cursor: pointer;\n",
              "    display: none;\n",
              "    fill: var(--fill-color);\n",
              "    height: 32px;\n",
              "    padding: 0;\n",
              "    width: 32px;\n",
              "  }\n",
              "\n",
              "  .colab-df-quickchart:hover {\n",
              "    background-color: var(--hover-bg-color);\n",
              "    box-shadow: 0 1px 2px rgba(60, 64, 67, 0.3), 0 1px 3px 1px rgba(60, 64, 67, 0.15);\n",
              "    fill: var(--button-hover-fill-color);\n",
              "  }\n",
              "\n",
              "  .colab-df-quickchart-complete:disabled,\n",
              "  .colab-df-quickchart-complete:disabled:hover {\n",
              "    background-color: var(--disabled-bg-color);\n",
              "    fill: var(--disabled-fill-color);\n",
              "    box-shadow: none;\n",
              "  }\n",
              "\n",
              "  .colab-df-spinner {\n",
              "    border: 2px solid var(--fill-color);\n",
              "    border-color: transparent;\n",
              "    border-bottom-color: var(--fill-color);\n",
              "    animation:\n",
              "      spin 1s steps(1) infinite;\n",
              "  }\n",
              "\n",
              "  @keyframes spin {\n",
              "    0% {\n",
              "      border-color: transparent;\n",
              "      border-bottom-color: var(--fill-color);\n",
              "      border-left-color: var(--fill-color);\n",
              "    }\n",
              "    20% {\n",
              "      border-color: transparent;\n",
              "      border-left-color: var(--fill-color);\n",
              "      border-top-color: var(--fill-color);\n",
              "    }\n",
              "    30% {\n",
              "      border-color: transparent;\n",
              "      border-left-color: var(--fill-color);\n",
              "      border-top-color: var(--fill-color);\n",
              "      border-right-color: var(--fill-color);\n",
              "    }\n",
              "    40% {\n",
              "      border-color: transparent;\n",
              "      border-right-color: var(--fill-color);\n",
              "      border-top-color: var(--fill-color);\n",
              "    }\n",
              "    60% {\n",
              "      border-color: transparent;\n",
              "      border-right-color: var(--fill-color);\n",
              "    }\n",
              "    80% {\n",
              "      border-color: transparent;\n",
              "      border-right-color: var(--fill-color);\n",
              "      border-bottom-color: var(--fill-color);\n",
              "    }\n",
              "    90% {\n",
              "      border-color: transparent;\n",
              "      border-bottom-color: var(--fill-color);\n",
              "    }\n",
              "  }\n",
              "</style>\n",
              "\n",
              "  <script>\n",
              "    async function quickchart(key) {\n",
              "      const quickchartButtonEl =\n",
              "        document.querySelector('#' + key + ' button');\n",
              "      quickchartButtonEl.disabled = true;  // To prevent multiple clicks.\n",
              "      quickchartButtonEl.classList.add('colab-df-spinner');\n",
              "      try {\n",
              "        const charts = await google.colab.kernel.invokeFunction(\n",
              "            'suggestCharts', [key], {});\n",
              "      } catch (error) {\n",
              "        console.error('Error during call to suggestCharts:', error);\n",
              "      }\n",
              "      quickchartButtonEl.classList.remove('colab-df-spinner');\n",
              "      quickchartButtonEl.classList.add('colab-df-quickchart-complete');\n",
              "    }\n",
              "    (() => {\n",
              "      let quickchartButtonEl =\n",
              "        document.querySelector('#df-c9e6d95a-60c3-4a8e-b04a-7bd1e4120f89 button');\n",
              "      quickchartButtonEl.style.display =\n",
              "        google.colab.kernel.accessAllowed ? 'block' : 'none';\n",
              "    })();\n",
              "  </script>\n",
              "</div>\n",
              "    </div>\n",
              "  </div>\n"
            ],
            "application/vnd.google.colaboratory.intrinsic+json": {
              "type": "dataframe",
              "summary": "{\n  \"name\": \"cntrbtrs[:10]\",\n  \"rows\": 10,\n  \"fields\": [\n    {\n      \"column\": \"slctn_nmbr\",\n      \"properties\": {\n        \"dtype\": \"number\",\n        \"std\": 0,\n        \"min\": 2,\n        \"max\": 2,\n        \"num_unique_values\": 1,\n        \"samples\": [\n          2\n        ],\n        \"semantic_type\": \"\",\n        \"description\": \"\"\n      }\n    },\n    {\n      \"column\": \"npo_accnt_id\",\n      \"properties\": {\n        \"dtype\": \"string\",\n        \"num_unique_values\": 10,\n        \"samples\": [\n          \"0xAAE5396725F5CD47A608999721C637D3\"\n        ],\n        \"semantic_type\": \"\",\n        \"description\": \"\"\n      }\n    },\n    {\n      \"column\": \"accnt_pnsn_schm\",\n      \"properties\": {\n        \"dtype\": \"number\",\n        \"std\": 1.286683937707919,\n        \"min\": 0.0,\n        \"max\": 3.0,\n        \"num_unique_values\": 4,\n        \"samples\": [\n          1.0\n        ],\n        \"semantic_type\": \"\",\n        \"description\": \"\"\n      }\n    }\n  ]\n}"
            }
          },
          "metadata": {},
          "execution_count": 5
        }
      ]
    },
    {
      "cell_type": "code",
      "source": [
        "train_ds = pd.DataFrame()\n",
        "# qrtr\n",
        "train_ds['balance'] = train['balance']\n",
        "train_ds['pmnts_nmbr'] = train['pmnts_nmbr']\n",
        "train_ds['pmnts_sum_per_qrtr'] = train['pmnts_sum_per_qrtr']\n",
        "train_ds['pmnts_nmbr_per_qrtr'] = train['pmnts_nmbr_per_qrtr']\n",
        "train_ds['evry_qrtr_pmnt'] = train['evry_qrtr_pmnt']\n",
        "# year\n",
        "train_ds['pmnts_sum_per_year'] = train['pmnts_sum_per_year']\n",
        "train_ds['pmnts_nmbr_per_year'] = train['pmnts_nmbr_per_year']\n",
        "\n",
        "train_ds['lst_pmnt_rcnc_d'] = train['lst_pmnt_rcnc_d']\n",
        "train_ds['actv_prd_d'] = train['actv_prd_d']\n",
        "train_ds['clnt_cprtn_time_d'] = train['clnt_cprtn_time_d']\n",
        "# train_ds['npo_accnts_nmbr'] = train['npo_accnts_nmbr'] # 1\n",
        "train_ds['appl_mrkr'] = train['appl_mrkr']\n",
        "train_ds['npo_sum'] = trnsctns['npo_sum']\n",
        "# train_ds['npo_oprtn_date'] = trnsctns['npo_oprtn_date']\n",
        "train_ds['npo_oprtn_grp'] = trnsctns['npo_oprtn_grp']\n",
        "# train_ds['mgd_accum_period'] = train['mgd_accum_period']\n",
        "train_ds['mgd_payment_period'] = train['mgd_payment_period']\n",
        "train_ds['frst_pmnt'] = train['frst_pmnt']\n",
        "train_ds['citizen'] = train['citizen']\n",
        "\n",
        "test_ds = pd.DataFrame()\n",
        "test_ds['balance'] = test['balance']\n",
        "test_ds['pmnts_nmbr'] = test['pmnts_nmbr']\n",
        "test_ds['pmnts_sum_per_qrtr'] = test['pmnts_sum_per_qrtr']\n",
        "test_ds['pmnts_nmbr_per_qrtr'] = test['pmnts_nmbr_per_qrtr']\n",
        "test_ds['evry_qrtr_pmnt'] = test['evry_qrtr_pmnt']\n",
        "# year\n",
        "test_ds['pmnts_sum_per_year'] = test['pmnts_sum_per_year']\n",
        "test_ds['pmnts_nmbr_per_year'] = test['pmnts_nmbr_per_year']\n",
        "\n",
        "test_ds['lst_pmnt_rcnc_d'] = test['lst_pmnt_rcnc_d']\n",
        "test_ds['actv_prd_d'] = test['actv_prd_d']\n",
        "test_ds['clnt_cprtn_time_d'] = test['clnt_cprtn_time_d']\n",
        "# train_ds['npo_accnts_nmbr'] = train['npo_accnts_nmbr'] # 1\n",
        "test_ds['appl_mrkr'] = test['appl_mrkr']\n",
        "test_ds['incm_sum'] = test['incm_sum']\n",
        "# train_ds['npo_oprtn_date'] = trnsctns['npo_oprtn_date']\n",
        "# train_ds['npo_oprtn_grp'] = test['npo_oprtn_grp']\n",
        "# train_ds['mgd_accum_period'] = train['mgd_accum_period']\n",
        "test_ds['mgd_payment_period'] = test['mgd_payment_period']\n",
        "test_ds['frst_pmnt'] = test['frst_pmnt']\n",
        "test_ds['citizen'] = test['citizen']\n",
        "\n",
        "# marker\n",
        "train_ds['churn'] = train['churn']"
      ],
      "metadata": {
        "id": "MIBsH9csrizd"
      },
      "execution_count": 16,
      "outputs": []
    },
    {
      "cell_type": "code",
      "source": [
        "model = load_model('/content/drive/MyDrive/NPF/Neur95/loyality_clients.h5')"
      ],
      "metadata": {
        "id": "17fWlvyeMFRl"
      },
      "execution_count": 7,
      "outputs": []
    },
    {
      "cell_type": "code",
      "source": [
        "model.summary()"
      ],
      "metadata": {
        "colab": {
          "base_uri": "https://localhost:8080/"
        },
        "id": "R9oXMsR4MceD",
        "outputId": "d8266439-0ae1-438b-8d26-7f454a3a365b"
      },
      "execution_count": 17,
      "outputs": [
        {
          "output_type": "stream",
          "name": "stdout",
          "text": [
            "Model: \"sequential_2\"\n",
            "_________________________________________________________________\n",
            " Layer (type)                Output Shape              Param #   \n",
            "=================================================================\n",
            " dense_4 (Dense)             (None, 500)               8000      \n",
            "                                                                 \n",
            " dense_5 (Dense)             (None, 2)                 1002      \n",
            "                                                                 \n",
            "=================================================================\n",
            "Total params: 9002 (35.16 KB)\n",
            "Trainable params: 9002 (35.16 KB)\n",
            "Non-trainable params: 0 (0.00 Byte)\n",
            "_________________________________________________________________\n"
          ]
        }
      ]
    },
    {
      "cell_type": "code",
      "source": [
        "model.evaluate(test_ds)"
      ],
      "metadata": {
        "colab": {
          "base_uri": "https://localhost:8080/"
        },
        "id": "BLuteYTMMWNr",
        "outputId": "59b38db1-f309-4fb7-80f5-6a7e384225ac"
      },
      "execution_count": 18,
      "outputs": [
        {
          "output_type": "stream",
          "name": "stdout",
          "text": [
            "19795/19795 [==============================] - 27s 1ms/step - loss: 0.0000e+00 - accuracy: 0.0000e+00\n"
          ]
        },
        {
          "output_type": "execute_result",
          "data": {
            "text/plain": [
              "[0.0, 0.0]"
            ]
          },
          "metadata": {},
          "execution_count": 18
        }
      ]
    },
    {
      "cell_type": "code",
      "source": [
        "pred = model.predict(test_ds)\n",
        "pred"
      ],
      "metadata": {
        "id": "Ed85xVsTMY-T"
      },
      "execution_count": null,
      "outputs": []
    },
    {
      "cell_type": "code",
      "source": [
        "pred = np.argmax(pred, axis=1)"
      ],
      "metadata": {
        "colab": {
          "base_uri": "https://localhost:8080/"
        },
        "id": "2huTBLzgSPTp",
        "outputId": "4554acca-3441-4058-ffb0-0e96902d081b"
      },
      "execution_count": 21,
      "outputs": [
        {
          "output_type": "execute_result",
          "data": {
            "text/plain": [
              "array([1, 0, 1, ..., 1, 1, 1])"
            ]
          },
          "metadata": {},
          "execution_count": 21
        }
      ]
    },
    {
      "cell_type": "code",
      "source": [
        "pd.DataFrame({'churn': pred}).to_csv(\"/content/drive/MyDrive/NPF/result.csv\")"
      ],
      "metadata": {
        "id": "tFKCpDESSjbR"
      },
      "execution_count": 23,
      "outputs": []
    },
    {
      "cell_type": "code",
      "source": [
        "his = plt.hist(train_ds['churn'], color = 'blue', edgecolor = 'black',\n",
        "         bins = int(180/50))\n",
        "plt.show()"
      ],
      "metadata": {
        "colab": {
          "base_uri": "https://localhost:8080/",
          "height": 445
        },
        "id": "ywI1_zs_yMq_",
        "outputId": "4ddf2380-51c6-4d61-d69a-2cf3ca7434e2"
      },
      "execution_count": 27,
      "outputs": [
        {
          "output_type": "display_data",
          "data": {
            "text/plain": [
              "<Figure size 640x480 with 1 Axes>"
            ],
            "image/png": "[encoded data removed]"
          },
          "metadata": {}
        }
      ]
    },
    {
      "cell_type": "code",
      "source": [
        "X_train = train_ds.loc[:, train_ds.columns !='churn']\n",
        "y_train = train_ds['churn']\n",
        "nm = NearMiss()\n",
        "X_train, y_train = nm.fit_resample(X_train, y_train.ravel())"
      ],
      "metadata": {
        "id": "vmg-8WrqdeMW"
      },
      "execution_count": null,
      "outputs": []
    },
    {
      "cell_type": "code",
      "source": [
        "his = plt.hist(y_train, color = 'blue', edgecolor = 'black',\n",
        "         bins = int(180/50))\n",
        "plt.show()"
      ],
      "metadata": {
        "colab": {
          "base_uri": "https://localhost:8080/",
          "height": 430
        },
        "id": "Bg3FM0qxfAXe",
        "outputId": "791c4dff-3ead-4bfc-b69e-8e0a16690d59"
      },
      "execution_count": 9,
      "outputs": [
        {
          "output_type": "display_data",
          "data": {
            "text/plain": [
              "<Figure size 640x480 with 1 Axes>"
            ],
            "image/png": "[encoded data removed]"
          },
          "metadata": {}
        }
      ]
    },
    {
      "cell_type": "code",
      "source": [
        "plt.plot(list(range(len(y_train))), y_train)"
      ],
      "metadata": {
        "colab": {
          "base_uri": "https://localhost:8080/",
          "height": 447
        },
        "id": "WkGEEyv4fhcV",
        "outputId": "72fae94e-683a-45a7-89ea-3d0268f5f0b2"
      },
      "execution_count": 10,
      "outputs": [
        {
          "output_type": "execute_result",
          "data": {
            "text/plain": [
              "[<matplotlib.lines.Line2D at 0x7ae173a90a60>]"
            ]
          },
          "metadata": {},
          "execution_count": 10
        },
        {
          "output_type": "display_data",
          "data": {
            "text/plain": [
              "<Figure size 640x480 with 1 Axes>"
            ],
            "image/png": "[encoded data removed]"
          },
          "metadata": {}
        }
      ]
    },
    {
      "cell_type": "code",
      "source": [
        "merge_xy = pd.concat([X_train, pd.DataFrame({'churn': y_train})], axis=1)\n",
        "merge_xy = merge_xy.sample(frac=1)\n",
        "X_train = merge_xy.loc[:, merge_xy.columns !='churn']\n",
        "y_train = merge_xy['churn']"
      ],
      "metadata": {
        "id": "7JNI67Rdr-WR"
      },
      "execution_count": 11,
      "outputs": []
    },
    {
      "cell_type": "code",
      "source": [
        "X_train, X_test, y_train, y_test = train_test_split(X_train, y_train, test_size=0.3, random_state=42)"
      ],
      "metadata": {
        "id": "GVVxuH1whYWN"
      },
      "execution_count": 12,
      "outputs": []
    },
    {
      "cell_type": "code",
      "source": [
        "print(y_train[102])"
      ],
      "metadata": {
        "colab": {
          "base_uri": "https://localhost:8080/"
        },
        "id": "6ZmQVwQ4A4gB",
        "outputId": "fc4a0eff-42c2-4700-cc21-2a164b8a1f03"
      },
      "execution_count": null,
      "outputs": [
        {
          "output_type": "stream",
          "name": "stdout",
          "text": [
            "0\n"
          ]
        }
      ]
    },
    {
      "cell_type": "code",
      "source": [
        "# train_for_year = train_ds.loc[:, ~train_ds.columns.isin(['pmnts_sum_per_qrtr', 'pmnts_nmbr_per_qrtr'])]\n",
        "# train_for_qrtr = train_ds.loc[:, ~train_ds.columns.isin(['pmnts_sum_per_year', 'pmnts_nmbr_per_year'])]\n",
        "# test_for_year = test_ds.loc[:, ~test_ds.columns.isin(['pmnts_sum_per_qrtr', 'pmnts_nmbr_per_qrtr'])]\n",
        "# test_for_qrtr = test_ds.loc[:, ~test_ds.columns.isin(['pmnts_sum_per_year', 'pmnts_nmbr_per_year'])]\n",
        "# test_for_qrtr.shape[0]"
      ],
      "metadata": {
        "id": "bAk0OFFdq0d4"
      },
      "execution_count": null,
      "outputs": []
    },
    {
      "cell_type": "code",
      "source": [
        "# x_train_year = train_for_year.loc[:, train_for_year.columns !='churn']\n",
        "# y_train_year = train_for_year['churn']\n",
        "# x_test_year = test_for_year.loc[:, test_for_year.columns !='churn']\n",
        "# y_test_year = test_for_year['churn']\n",
        "\n",
        "# x_train_qrtr = train_for_qrtr.loc[:, train_for_qrtr.columns !='churn']\n",
        "# y_train_qrtr = train_for_qrtr['churn']\n",
        "# x_test_qrtr = test_for_qrtr.loc[:, test_for_qrtr.columns !='churn']\n",
        "# y_test_qrtr = test_for_qrtr['churn']"
      ],
      "metadata": {
        "id": "j2QQAU3iscYw"
      },
      "execution_count": null,
      "outputs": []
    },
    {
      "cell_type": "code",
      "source": [
        "classes = {0:'Не уйдет', 1:'Уйдет'}"
      ],
      "metadata": {
        "id": "1WigEnRUp8c5"
      },
      "execution_count": null,
      "outputs": []
    },
    {
      "cell_type": "code",
      "source": [
        "y_train = utils.to_categorical(y_train)\n",
        "y_test = utils.to_categorical(y_test)\n",
        "# y_train_year = utils.to_categorical(y_train_year)\n",
        "# y_train_qrtr = utils.to_categorical(y_train_qrtr)\n",
        "# y_test_year = utils.to_categorical(y_test_year)\n",
        "# y_test_qrtr = utils.to_categorical(y_test_qrtr)\n",
        "\n",
        "# y_train_year = np.asarray(y_train_year).astype('float32')\n",
        "# y_test_qrtr = np.asarray(y_train_qrtr).astype('float32')\n",
        "# y_train_year[111]\n",
        "y_train"
      ],
      "metadata": {
        "colab": {
          "base_uri": "https://localhost:8080/"
        },
        "id": "Sx1mBa23tm7f",
        "outputId": "d6f46d54-8bb6-472f-d1e9-940b600f40e3"
      },
      "execution_count": null,
      "outputs": [
        {
          "output_type": "execute_result",
          "data": {
            "text/plain": [
              "array([[1., 0.],\n",
              "       [0., 1.],\n",
              "       [0., 1.],\n",
              "       ...,\n",
              "       [0., 1.],\n",
              "       [0., 1.],\n",
              "       [1., 0.]], dtype=float32)"
            ]
          },
          "metadata": {},
          "execution_count": 37
        }
      ]
    },
    {
      "cell_type": "code",
      "source": [
        "model = Sequential()\n",
        "# Входной полносвязный слой, 800 нейронов, 784 входа в каждый нейрон\n",
        "model.add(Dense(units=500, input_dim=15, activation=\"tanh\"))\n",
        "# Выходной полносвязный слой, 10 нейронов (по количеству рукописных цифр)\n",
        "model.add(Dense(units=2, activation=\"sigmoid\"))\n",
        "\n",
        "model.compile(loss=\"binary_crossentropy\", optimizer=\"rmsprop\", metrics=[\"accuracy\"])"
      ],
      "metadata": {
        "id": "2g7i9xyPkvdT"
      },
      "execution_count": null,
      "outputs": []
    },
    {
      "cell_type": "code",
      "source": [
        "# model_for_year = Sequential()\n",
        "# # Входной полносвязный слой, 800 нейронов, 784 входа в каждый нейрон\n",
        "# model_for_year.add(Dense(units=2, input_dim=4, activation=\"relu\"))\n",
        "# # Выходной полносвязный слой, 10 нейронов (по количеству рукописных цифр)\n",
        "# model_for_year.add(Dense(units=2, activation=\"sigmoid\"))\n",
        "\n",
        "# model_for_year.compile(loss=\"binary_crossentropy\", optimizer=\"rmsprop\", metrics=[\"accuracy\"])"
      ],
      "metadata": {
        "id": "3Rc4phoec7eb"
      },
      "execution_count": null,
      "outputs": []
    },
    {
      "cell_type": "code",
      "source": [
        "# model_for_qrtr = Sequential()\n",
        "# # Входной полносвязный слой, 800 нейронов, 784 входа в каждый нейрон\n",
        "# model_for_qrtr.add(Dense(units=800, input_dim=4, activation=\"relu\"))\n",
        "# # Выходной полносвязный слой, 10 нейронов (по количеству рукописных цифр)\n",
        "# model_for_qrtr.add(Dense(units=1, activation=\"softmax\"))\n",
        "\n",
        "# model_for_qrtr.compile(loss=\"binary_crossentropy\", optimizer=\"rmsprop\", metrics=[\"accuracy\"])"
      ],
      "metadata": {
        "id": "Xi1fCZrfu0VG"
      },
      "execution_count": null,
      "outputs": []
    },
    {
      "cell_type": "code",
      "source": [
        "print(model.summary())"
      ],
      "metadata": {
        "id": "4ei9ruP_c--L",
        "colab": {
          "base_uri": "https://localhost:8080/"
        },
        "outputId": "edb5409a-e52f-40ce-f03d-6b8eee093b15"
      },
      "execution_count": null,
      "outputs": [
        {
          "output_type": "stream",
          "name": "stdout",
          "text": [
            "Model: \"sequential_27\"\n",
            "_________________________________________________________________\n",
            " Layer (type)                Output Shape              Param #   \n",
            "=================================================================\n",
            " dense_54 (Dense)            (None, 500)               8000      \n",
            "                                                                 \n",
            " dense_55 (Dense)            (None, 2)                 1002      \n",
            "                                                                 \n",
            "=================================================================\n",
            "Total params: 9002 (35.16 KB)\n",
            "Trainable params: 9002 (35.16 KB)\n",
            "Non-trainable params: 0 (0.00 Byte)\n",
            "_________________________________________________________________\n",
            "None\n"
          ]
        }
      ]
    },
    {
      "cell_type": "code",
      "source": [
        "# обучение\n",
        "history=model.fit(X_train, y_train,\n",
        "          batch_size=1000,\n",
        "          epochs=5,\n",
        "          validation_split=0.1,\n",
        "          verbose=1)"
      ],
      "metadata": {
        "id": "ZCnZ9aFkdBHr",
        "colab": {
          "base_uri": "https://localhost:8080/"
        },
        "outputId": "fbd93874-1e58-43e9-b083-5049afaa20db"
      },
      "execution_count": null,
      "outputs": [
        {
          "output_type": "stream",
          "name": "stdout",
          "text": [
            "Epoch 1/5\n",
            "71/71 [==============================] - 3s 20ms/step - loss: 0.2267 - accuracy: 0.9163 - val_loss: 0.1575 - val_accuracy: 0.9464\n",
            "Epoch 2/5\n",
            "71/71 [==============================] - 1s 12ms/step - loss: 0.1634 - accuracy: 0.9412 - val_loss: 0.1419 - val_accuracy: 0.9507\n",
            "Epoch 3/5\n",
            "71/71 [==============================] - 1s 12ms/step - loss: 0.1515 - accuracy: 0.9464 - val_loss: 0.1313 - val_accuracy: 0.9543\n",
            "Epoch 4/5\n",
            "71/71 [==============================] - 1s 12ms/step - loss: 0.1449 - accuracy: 0.9483 - val_loss: 0.1300 - val_accuracy: 0.9557\n",
            "Epoch 5/5\n",
            "71/71 [==============================] - 1s 11ms/step - loss: 0.1409 - accuracy: 0.9503 - val_loss: 0.1310 - val_accuracy: 0.9538\n"
          ]
        }
      ]
    },
    {
      "cell_type": "code",
      "source": [
        "model.save('/content/drive/MyDrive/NPF/Neur95/loyality_clients.h5')"
      ],
      "metadata": {
        "id": "B8svmZzz25IE",
        "colab": {
          "base_uri": "https://localhost:8080/"
        },
        "outputId": "72e0694d-038f-4f9a-93ba-2821bc7a9181"
      },
      "execution_count": null,
      "outputs": [
        {
          "output_type": "stream",
          "name": "stderr",
          "text": [
            "/usr/local/lib/python3.10/dist-packages/keras/src/engine/training.py:3103: UserWarning: You are saving your model as an HDF5 file via `model.save()`. This file format is considered legacy. We recommend using instead the native Keras format, e.g. `model.save('my_model.keras')`.\n",
            "  saving_api.save_model(\n"
          ]
        }
      ]
    },
    {
      "cell_type": "code",
      "source": [
        "plt.plot(history.history['loss'],\n",
        "         label='Средняя абсолютная ошибка на обучающем наборе')\n",
        "plt.plot(history.history['val_loss'],\n",
        "         label='Средняя абсолютная ошибка на валидационном наборе')\n",
        "plt.xlabel('Эпоха обучения')\n",
        "plt.ylabel('Средняя абсолютная ошибка')\n",
        "plt.legend()\n",
        "plt.show()"
      ],
      "metadata": {
        "id": "_5mIgEN7dCkT",
        "colab": {
          "base_uri": "https://localhost:8080/",
          "height": 449
        },
        "outputId": "06532ae2-0053-4f58-cac5-abfd3f4dfbd5"
      },
      "execution_count": null,
      "outputs": [
        {
          "output_type": "display_data",
          "data": {
            "text/plain": [
              "<Figure size 640x480 with 1 Axes>"
            ],
            "image/png": "[encoded data removed]"
          },
          "metadata": {}
        }
      ]
    },
    {
      "cell_type": "code",
      "source": [
        "y_test"
      ],
      "metadata": {
        "colab": {
          "base_uri": "https://localhost:8080/"
        },
        "id": "RFy_ExWvVNVb",
        "outputId": "6267e7b9-895b-4ec0-966f-19eacd7070bd"
      },
      "execution_count": null,
      "outputs": [
        {
          "output_type": "execute_result",
          "data": {
            "text/plain": [
              "array([[1., 0.],\n",
              "       [1., 0.],\n",
              "       [1., 0.],\n",
              "       ...,\n",
              "       [0., 1.],\n",
              "       [1., 0.],\n",
              "       [0., 1.]], dtype=float32)"
            ]
          },
          "metadata": {},
          "execution_count": 125
        }
      ]
    },
    {
      "cell_type": "code",
      "source": [
        "scores=model.evaluate(X_test, y_test)\n",
        "scores[1]"
      ],
      "metadata": {
        "id": "zCt2u-h1dEP8",
        "colab": {
          "base_uri": "https://localhost:8080/"
        },
        "outputId": "62c8d975-ee02-4c6d-b4e5-c7b4ea41d51b"
      },
      "execution_count": null,
      "outputs": [
        {
          "output_type": "stream",
          "name": "stdout",
          "text": [
            "1052/1052 [==============================] - 2s 2ms/step - loss: 0.1383 - accuracy: 0.9513\n"
          ]
        },
        {
          "output_type": "execute_result",
          "data": {
            "text/plain": [
              "0.9512673616409302"
            ]
          },
          "metadata": {},
          "execution_count": 41
        }
      ]
    },
    {
      "cell_type": "code",
      "source": [
        "pred=model.predict(X_test)\n",
        "pred"
      ],
      "metadata": {
        "id": "9uE5786bdGD7",
        "colab": {
          "base_uri": "https://localhost:8080/"
        },
        "outputId": "cde70a9d-fc14-413f-d389-92e8f0ca60f9"
      },
      "execution_count": null,
      "outputs": [
        {
          "output_type": "stream",
          "name": "stdout",
          "text": [
            "1052/1052 [==============================] - 1s 928us/step\n"
          ]
        },
        {
          "output_type": "execute_result",
          "data": {
            "text/plain": [
              "array([[0.03700102, 0.97226465],\n",
              "       [0.96478444, 0.02999215],\n",
              "       [0.9655336 , 0.03473468],\n",
              "       ...,\n",
              "       [0.05353509, 0.9769774 ],\n",
              "       [0.86877275, 0.16936694],\n",
              "       [0.01521704, 0.9812834 ]], dtype=float32)"
            ]
          },
          "metadata": {},
          "execution_count": 123
        }
      ]
    },
    {
      "cell_type": "code",
      "source": [
        "print(pred[1])"
      ],
      "metadata": {
        "colab": {
          "base_uri": "https://localhost:8080/"
        },
        "id": "o22USj4pRrnW",
        "outputId": "bd107aaf-51cd-41a2-b8ed-e88dddf25844"
      },
      "execution_count": null,
      "outputs": [
        {
          "output_type": "stream",
          "name": "stdout",
          "text": [
            "[0.9733288  0.02616714]\n"
          ]
        }
      ]
    },
    {
      "cell_type": "code",
      "source": [
        "test_index=6\n",
        "print('Предсказанное поведение:', classes[np.argmax(pred[test_index])],\n",
        "      ', фактическое поведение:', classes[np.argmax(y_test[test_index])])"
      ],
      "metadata": {
        "id": "Y4LmBLeldHUr",
        "colab": {
          "base_uri": "https://localhost:8080/"
        },
        "outputId": "d6ea7a45-4b5d-4df5-ad21-dc687f064177"
      },
      "execution_count": null,
      "outputs": [
        {
          "output_type": "stream",
          "name": "stdout",
          "text": [
            "Предсказанное поведение: Не уйдет , фактическое поведение: Не уйдет\n"
          ]
        }
      ]
    },
    {
      "cell_type": "code",
      "source": [
        "# y_test = np.argmax(y_test, axis=1)\n",
        "pred = np.argmax(pred, axis=1)"
      ],
      "metadata": {
        "id": "2ELnphtzdJD6"
      },
      "execution_count": null,
      "outputs": []
    },
    {
      "cell_type": "code",
      "source": [
        "y_test = np.argmax(y_test, axis=1)"
      ],
      "metadata": {
        "id": "KbQMhjD0VRht"
      },
      "execution_count": null,
      "outputs": []
    },
    {
      "cell_type": "code",
      "source": [
        "y_test"
      ],
      "metadata": {
        "colab": {
          "base_uri": "https://localhost:8080/"
        },
        "id": "0bUuxDoaYa8D",
        "outputId": "96329215-5159-4642-c522-428fccabf978"
      },
      "execution_count": null,
      "outputs": [
        {
          "output_type": "execute_result",
          "data": {
            "text/plain": [
              "array([1, 0, 0, ..., 1, 0, 1])"
            ]
          },
          "metadata": {},
          "execution_count": 147
        }
      ]
    },
    {
      "cell_type": "code",
      "source": [
        "graph_list = []\n",
        "for i in range(len(pred)):\n",
        "  if pred[i] == y_test[i]:\n",
        "    graph_list.append(1)\n",
        "  else:\n",
        "    graph_list.append(0)\n",
        "\n",
        "his = plt.hist(graph_list, color = 'blue', edgecolor = 'black',\n",
        "         bins = int(180/50))\n"
      ],
      "metadata": {
        "colab": {
          "base_uri": "https://localhost:8080/",
          "height": 430
        },
        "id": "nhkDTaErnoNq",
        "outputId": "4e0e5905-bdb3-4cd6-c58d-4251694bef00"
      },
      "execution_count": null,
      "outputs": [
        {
          "output_type": "display_data",
          "data": {
            "text/plain": [
              "<Figure size 640x480 with 1 Axes>"
            ],
            "image/png": "[encoded data removed]"
          },
          "metadata": {}
        }
      ]
    },
    {
      "cell_type": "code",
      "source": [
        "model = load_model('/content/drive/MyDrive/NPF/Neur95/saved_model.pb')"
      ],
      "metadata": {
        "colab": {
          "base_uri": "https://localhost:8080/",
          "height": 391
        },
        "id": "YQQHP1u27mHM",
        "outputId": "f4474337-e96c-4e0e-9eed-9d3d4c79b749"
      },
      "execution_count": null,
      "outputs": [
        {
          "output_type": "error",
          "ename": "OSError",
          "evalue": "Unable to open file (file signature not found)",
          "traceback": [
            "\u001b[0;31m---------------------------------------------------------------------------\u001b[0m",
            "\u001b[0;31mOSError\u001b[0m                                   Traceback (most recent call last)",
            "\u001b[0;32m<ipython-input-9-d5d0dc462ec4>\u001b[0m in \u001b[0;36m<cell line: 1>\u001b[0;34m()\u001b[0m\n\u001b[0;32m----> 1\u001b[0;31m \u001b[0mmodel\u001b[0m \u001b[0;34m=\u001b[0m \u001b[0mload_model\u001b[0m\u001b[0;34m(\u001b[0m\u001b[0;34m'/content/drive/MyDrive/NPF/Neur95/saved_model.pb'\u001b[0m\u001b[0;34m)\u001b[0m\u001b[0;34m\u001b[0m\u001b[0;34m\u001b[0m\u001b[0m\n\u001b[0m",
            "\u001b[0;32m/usr/local/lib/python3.10/dist-packages/keras/src/saving/saving_api.py\u001b[0m in \u001b[0;36mload_model\u001b[0;34m(filepath, custom_objects, compile, safe_mode, **kwargs)\u001b[0m\n\u001b[1;32m    260\u001b[0m \u001b[0;34m\u001b[0m\u001b[0m\n\u001b[1;32m    261\u001b[0m     \u001b[0;31m# Legacy case.\u001b[0m\u001b[0;34m\u001b[0m\u001b[0;34m\u001b[0m\u001b[0m\n\u001b[0;32m--> 262\u001b[0;31m     return legacy_sm_saving_lib.load_model(\n\u001b[0m\u001b[1;32m    263\u001b[0m         \u001b[0mfilepath\u001b[0m\u001b[0;34m,\u001b[0m \u001b[0mcustom_objects\u001b[0m\u001b[0;34m=\u001b[0m\u001b[0mcustom_objects\u001b[0m\u001b[0;34m,\u001b[0m \u001b[0mcompile\u001b[0m\u001b[0;34m=\u001b[0m\u001b[0mcompile\u001b[0m\u001b[0;34m,\u001b[0m \u001b[0;34m**\u001b[0m\u001b[0mkwargs\u001b[0m\u001b[0;34m\u001b[0m\u001b[0;34m\u001b[0m\u001b[0m\n\u001b[1;32m    264\u001b[0m     )\n",
            "\u001b[0;32m/usr/local/lib/python3.10/dist-packages/keras/src/utils/traceback_utils.py\u001b[0m in \u001b[0;36merror_handler\u001b[0;34m(*args, **kwargs)\u001b[0m\n\u001b[1;32m     68\u001b[0m             \u001b[0;31m# To get the full stack trace, call:\u001b[0m\u001b[0;34m\u001b[0m\u001b[0;34m\u001b[0m\u001b[0m\n\u001b[1;32m     69\u001b[0m             \u001b[0;31m# `tf.debugging.disable_traceback_filtering()`\u001b[0m\u001b[0;34m\u001b[0m\u001b[0;34m\u001b[0m\u001b[0m\n\u001b[0;32m---> 70\u001b[0;31m             \u001b[0;32mraise\u001b[0m \u001b[0me\u001b[0m\u001b[0;34m.\u001b[0m\u001b[0mwith_traceback\u001b[0m\u001b[0;34m(\u001b[0m\u001b[0mfiltered_tb\u001b[0m\u001b[0;34m)\u001b[0m \u001b[0;32mfrom\u001b[0m \u001b[0;32mNone\u001b[0m\u001b[0;34m\u001b[0m\u001b[0;34m\u001b[0m\u001b[0m\n\u001b[0m\u001b[1;32m     71\u001b[0m         \u001b[0;32mfinally\u001b[0m\u001b[0;34m:\u001b[0m\u001b[0;34m\u001b[0m\u001b[0;34m\u001b[0m\u001b[0m\n\u001b[1;32m     72\u001b[0m             \u001b[0;32mdel\u001b[0m \u001b[0mfiltered_tb\u001b[0m\u001b[0;34m\u001b[0m\u001b[0;34m\u001b[0m\u001b[0m\n",
            "\u001b[0;32m/usr/local/lib/python3.10/dist-packages/h5py/_hl/files.py\u001b[0m in \u001b[0;36m__init__\u001b[0;34m(self, name, mode, driver, libver, userblock_size, swmr, rdcc_nslots, rdcc_nbytes, rdcc_w0, track_order, fs_strategy, fs_persist, fs_threshold, fs_page_size, page_buf_size, min_meta_keep, min_raw_keep, locking, alignment_threshold, alignment_interval, meta_block_size, **kwds)\u001b[0m\n\u001b[1;32m    565\u001b[0m                                  \u001b[0mfs_persist\u001b[0m\u001b[0;34m=\u001b[0m\u001b[0mfs_persist\u001b[0m\u001b[0;34m,\u001b[0m \u001b[0mfs_threshold\u001b[0m\u001b[0;34m=\u001b[0m\u001b[0mfs_threshold\u001b[0m\u001b[0;34m,\u001b[0m\u001b[0;34m\u001b[0m\u001b[0;34m\u001b[0m\u001b[0m\n\u001b[1;32m    566\u001b[0m                                  fs_page_size=fs_page_size)\n\u001b[0;32m--> 567\u001b[0;31m                 \u001b[0mfid\u001b[0m \u001b[0;34m=\u001b[0m \u001b[0mmake_fid\u001b[0m\u001b[0;34m(\u001b[0m\u001b[0mname\u001b[0m\u001b[0;34m,\u001b[0m \u001b[0mmode\u001b[0m\u001b[0;34m,\u001b[0m \u001b[0muserblock_size\u001b[0m\u001b[0;34m,\u001b[0m \u001b[0mfapl\u001b[0m\u001b[0;34m,\u001b[0m \u001b[0mfcpl\u001b[0m\u001b[0;34m,\u001b[0m \u001b[0mswmr\u001b[0m\u001b[0;34m=\u001b[0m\u001b[0mswmr\u001b[0m\u001b[0;34m)\u001b[0m\u001b[0;34m\u001b[0m\u001b[0;34m\u001b[0m\u001b[0m\n\u001b[0m\u001b[1;32m    568\u001b[0m \u001b[0;34m\u001b[0m\u001b[0m\n\u001b[1;32m    569\u001b[0m             \u001b[0;32mif\u001b[0m \u001b[0misinstance\u001b[0m\u001b[0;34m(\u001b[0m\u001b[0mlibver\u001b[0m\u001b[0;34m,\u001b[0m \u001b[0mtuple\u001b[0m\u001b[0;34m)\u001b[0m\u001b[0;34m:\u001b[0m\u001b[0;34m\u001b[0m\u001b[0;34m\u001b[0m\u001b[0m\n",
            "\u001b[0;32m/usr/local/lib/python3.10/dist-packages/h5py/_hl/files.py\u001b[0m in \u001b[0;36mmake_fid\u001b[0;34m(name, mode, userblock_size, fapl, fcpl, swmr)\u001b[0m\n\u001b[1;32m    229\u001b[0m         \u001b[0;32mif\u001b[0m \u001b[0mswmr\u001b[0m \u001b[0;32mand\u001b[0m \u001b[0mswmr_support\u001b[0m\u001b[0;34m:\u001b[0m\u001b[0;34m\u001b[0m\u001b[0;34m\u001b[0m\u001b[0m\n\u001b[1;32m    230\u001b[0m             \u001b[0mflags\u001b[0m \u001b[0;34m|=\u001b[0m \u001b[0mh5f\u001b[0m\u001b[0;34m.\u001b[0m\u001b[0mACC_SWMR_READ\u001b[0m\u001b[0;34m\u001b[0m\u001b[0;34m\u001b[0m\u001b[0m\n\u001b[0;32m--> 231\u001b[0;31m         \u001b[0mfid\u001b[0m \u001b[0;34m=\u001b[0m \u001b[0mh5f\u001b[0m\u001b[0;34m.\u001b[0m\u001b[0mopen\u001b[0m\u001b[0;34m(\u001b[0m\u001b[0mname\u001b[0m\u001b[0;34m,\u001b[0m \u001b[0mflags\u001b[0m\u001b[0;34m,\u001b[0m \u001b[0mfapl\u001b[0m\u001b[0;34m=\u001b[0m\u001b[0mfapl\u001b[0m\u001b[0;34m)\u001b[0m\u001b[0;34m\u001b[0m\u001b[0;34m\u001b[0m\u001b[0m\n\u001b[0m\u001b[1;32m    232\u001b[0m     \u001b[0;32melif\u001b[0m \u001b[0mmode\u001b[0m \u001b[0;34m==\u001b[0m \u001b[0;34m'r+'\u001b[0m\u001b[0;34m:\u001b[0m\u001b[0;34m\u001b[0m\u001b[0;34m\u001b[0m\u001b[0m\n\u001b[1;32m    233\u001b[0m         \u001b[0mfid\u001b[0m \u001b[0;34m=\u001b[0m \u001b[0mh5f\u001b[0m\u001b[0;34m.\u001b[0m\u001b[0mopen\u001b[0m\u001b[0;34m(\u001b[0m\u001b[0mname\u001b[0m\u001b[0;34m,\u001b[0m \u001b[0mh5f\u001b[0m\u001b[0;34m.\u001b[0m\u001b[0mACC_RDWR\u001b[0m\u001b[0;34m,\u001b[0m \u001b[0mfapl\u001b[0m\u001b[0;34m=\u001b[0m\u001b[0mfapl\u001b[0m\u001b[0;34m)\u001b[0m\u001b[0;34m\u001b[0m\u001b[0;34m\u001b[0m\u001b[0m\n",
            "\u001b[0;32mh5py/_objects.pyx\u001b[0m in \u001b[0;36mh5py._objects.with_phil.wrapper\u001b[0;34m()\u001b[0m\n",
            "\u001b[0;32mh5py/_objects.pyx\u001b[0m in \u001b[0;36mh5py._objects.with_phil.wrapper\u001b[0;34m()\u001b[0m\n",
            "\u001b[0;32mh5py/h5f.pyx\u001b[0m in \u001b[0;36mh5py.h5f.open\u001b[0;34m()\u001b[0m\n",
            "\u001b[0;31mOSError\u001b[0m: Unable to open file (file signature not found)"
          ]
        }
      ]
    }
  ]
}